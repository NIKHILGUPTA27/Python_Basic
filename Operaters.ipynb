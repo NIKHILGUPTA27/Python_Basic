{
 "cells": [
  {
   "cell_type": "code",
   "execution_count": 1,
   "id": "ea460d4b-ddd2-4c35-b7a5-bec7b87eccab",
   "metadata": {},
   "outputs": [],
   "source": [
    "#operaters >> special keywords to perform operators >> manage and computation"
   ]
  },
  {
   "cell_type": "code",
   "execution_count": 2,
   "id": "e1cd4190-1695-493d-9e3d-34cb755d8a2b",
   "metadata": {},
   "outputs": [
    {
     "data": {
      "text/plain": [
       "5"
      ]
     },
     "execution_count": 2,
     "metadata": {},
     "output_type": "execute_result"
    }
   ],
   "source": [
    "a=3\n",
    "b=2\n",
    "a+b"
   ]
  },
  {
   "cell_type": "code",
   "execution_count": 3,
   "id": "de4c32df-918d-45b5-a957-5794703d1287",
   "metadata": {},
   "outputs": [],
   "source": [
    "# Arithmathic operater"
   ]
  },
  {
   "cell_type": "code",
   "execution_count": 4,
   "id": "89ba7f30-e6d3-48ff-a172-12ba1a150fde",
   "metadata": {},
   "outputs": [
    {
     "data": {
      "text/plain": [
       "5"
      ]
     },
     "execution_count": 4,
     "metadata": {},
     "output_type": "execute_result"
    }
   ],
   "source": [
    "add=a+b\n",
    "add"
   ]
  },
  {
   "cell_type": "code",
   "execution_count": 5,
   "id": "a9c01633-2aa0-4b00-a20c-92429e2002dc",
   "metadata": {},
   "outputs": [
    {
     "data": {
      "text/plain": [
       "-2"
      ]
     },
     "execution_count": 5,
     "metadata": {},
     "output_type": "execute_result"
    }
   ],
   "source": [
    "3-5"
   ]
  },
  {
   "cell_type": "code",
   "execution_count": 6,
   "id": "5d256c89-0bad-42f2-9536-6b6c72797355",
   "metadata": {},
   "outputs": [
    {
     "data": {
      "text/plain": [
       "15"
      ]
     },
     "execution_count": 6,
     "metadata": {},
     "output_type": "execute_result"
    }
   ],
   "source": [
    "3*5"
   ]
  },
  {
   "cell_type": "code",
   "execution_count": 7,
   "id": "e1ed5e90-5f69-45d8-8095-62fd7fb4dc95",
   "metadata": {},
   "outputs": [
    {
     "data": {
      "text/plain": [
       "5.25"
      ]
     },
     "execution_count": 7,
     "metadata": {},
     "output_type": "execute_result"
    }
   ],
   "source": [
    "21/4"
   ]
  },
  {
   "cell_type": "code",
   "execution_count": 8,
   "id": "50255d51-13bc-4369-bc5b-c71cc5b3c3bb",
   "metadata": {},
   "outputs": [
    {
     "data": {
      "text/plain": [
       "5.0"
      ]
     },
     "execution_count": 8,
     "metadata": {},
     "output_type": "execute_result"
    }
   ],
   "source": [
    "20/4"
   ]
  },
  {
   "cell_type": "code",
   "execution_count": 9,
   "id": "3d5e5af6-3fca-4ef7-9ece-f5db80ccffcf",
   "metadata": {},
   "outputs": [
    {
     "data": {
      "text/plain": [
       "1"
      ]
     },
     "execution_count": 9,
     "metadata": {},
     "output_type": "execute_result"
    }
   ],
   "source": [
    "# Modulus operater\n",
    "21%4"
   ]
  },
  {
   "cell_type": "code",
   "execution_count": 10,
   "id": "b587cc4c-3a65-40fb-bce0-e471f3f84ba1",
   "metadata": {},
   "outputs": [
    {
     "data": {
      "text/plain": [
       "32"
      ]
     },
     "execution_count": 10,
     "metadata": {},
     "output_type": "execute_result"
    }
   ],
   "source": [
    "2**5 # 2 to power 5"
   ]
  },
  {
   "cell_type": "code",
   "execution_count": 11,
   "id": "24e6884f-d672-4cb5-87a0-e68f54e8b23e",
   "metadata": {},
   "outputs": [
    {
     "data": {
      "text/plain": [
       "515377520732011331036461129765621272702107522001"
      ]
     },
     "execution_count": 11,
     "metadata": {},
     "output_type": "execute_result"
    }
   ],
   "source": [
    "3**100"
   ]
  },
  {
   "cell_type": "code",
   "execution_count": 12,
   "id": "03fc7aca-506e-453c-878f-08ad868f8604",
   "metadata": {},
   "outputs": [
    {
     "data": {
      "text/plain": [
       "1.3333333333333333"
      ]
     },
     "execution_count": 12,
     "metadata": {},
     "output_type": "execute_result"
    }
   ],
   "source": [
    "4/3"
   ]
  },
  {
   "cell_type": "code",
   "execution_count": 13,
   "id": "31d522db-7e92-4520-b480-961913e6f992",
   "metadata": {},
   "outputs": [
    {
     "data": {
      "text/plain": [
       "1"
      ]
     },
     "execution_count": 13,
     "metadata": {},
     "output_type": "execute_result"
    }
   ],
   "source": [
    "4//3 #floor operater"
   ]
  },
  {
   "cell_type": "code",
   "execution_count": 15,
   "id": "3ad27f60-1001-4df8-a429-3a36e8c4dc05",
   "metadata": {},
   "outputs": [
    {
     "data": {
      "text/plain": [
       "True"
      ]
     },
     "execution_count": 15,
     "metadata": {},
     "output_type": "execute_result"
    }
   ],
   "source": [
    "# Comparison operater >> compare two values >> return a boolean value\n",
    "2==2"
   ]
  },
  {
   "cell_type": "code",
   "execution_count": 16,
   "id": "927bb413-68af-4cf6-bd78-d5ac7e4a319c",
   "metadata": {},
   "outputs": [
    {
     "data": {
      "text/plain": [
       "False"
      ]
     },
     "execution_count": 16,
     "metadata": {},
     "output_type": "execute_result"
    }
   ],
   "source": [
    "2!=2"
   ]
  },
  {
   "cell_type": "code",
   "execution_count": 17,
   "id": "89cc3ec4-69cb-431e-b692-484c38f1c3a5",
   "metadata": {},
   "outputs": [
    {
     "data": {
      "text/plain": [
       "True"
      ]
     },
     "execution_count": 17,
     "metadata": {},
     "output_type": "execute_result"
    }
   ],
   "source": [
    "5!=2"
   ]
  },
  {
   "cell_type": "code",
   "execution_count": 18,
   "id": "f105fc0a-31fb-4778-bd47-338b199767d5",
   "metadata": {},
   "outputs": [
    {
     "data": {
      "text/plain": [
       "True"
      ]
     },
     "execution_count": 18,
     "metadata": {},
     "output_type": "execute_result"
    }
   ],
   "source": [
    "10>2"
   ]
  },
  {
   "cell_type": "code",
   "execution_count": 19,
   "id": "edafceb0-a619-44b2-b1d4-2649d201cd9e",
   "metadata": {},
   "outputs": [
    {
     "data": {
      "text/plain": [
       "False"
      ]
     },
     "execution_count": 19,
     "metadata": {},
     "output_type": "execute_result"
    }
   ],
   "source": [
    "20>30"
   ]
  },
  {
   "cell_type": "code",
   "execution_count": 20,
   "id": "4f95064a-2e00-473c-8e59-5bd3fe8e69b4",
   "metadata": {},
   "outputs": [
    {
     "data": {
      "text/plain": [
       "False"
      ]
     },
     "execution_count": 20,
     "metadata": {},
     "output_type": "execute_result"
    }
   ],
   "source": [
    "10<2"
   ]
  },
  {
   "cell_type": "code",
   "execution_count": 21,
   "id": "6c9bd371-d956-4a91-b1b5-a96f52fe7c26",
   "metadata": {},
   "outputs": [
    {
     "data": {
      "text/plain": [
       "True"
      ]
     },
     "execution_count": 21,
     "metadata": {},
     "output_type": "execute_result"
    }
   ],
   "source": [
    "10<=10"
   ]
  },
  {
   "cell_type": "code",
   "execution_count": 22,
   "id": "6a7f5641-7169-4c36-9426-55840e8fe2a9",
   "metadata": {},
   "outputs": [
    {
     "data": {
      "text/plain": [
       "True"
      ]
     },
     "execution_count": 22,
     "metadata": {},
     "output_type": "execute_result"
    }
   ],
   "source": [
    "12>=5"
   ]
  },
  {
   "cell_type": "code",
   "execution_count": 23,
   "id": "0160efac-e2a0-45bf-9488-40a8f072f079",
   "metadata": {},
   "outputs": [
    {
     "data": {
      "text/plain": [
       "1"
      ]
     },
     "execution_count": 23,
     "metadata": {},
     "output_type": "execute_result"
    }
   ],
   "source": [
    "# Logical operater >> Two tyes\n",
    "# and\n",
    "# or\n",
    "True-False"
   ]
  },
  {
   "cell_type": "code",
   "execution_count": 24,
   "id": "75175ce7-4cc3-4273-bbae-85f760d5d420",
   "metadata": {},
   "outputs": [
    {
     "data": {
      "text/plain": [
       "True"
      ]
     },
     "execution_count": 24,
     "metadata": {},
     "output_type": "execute_result"
    }
   ],
   "source": [
    "True and True"
   ]
  },
  {
   "cell_type": "code",
   "execution_count": 25,
   "id": "0f01b56b-1259-4acc-9e16-c43b316a8cdd",
   "metadata": {},
   "outputs": [
    {
     "data": {
      "text/plain": [
       "False"
      ]
     },
     "execution_count": 25,
     "metadata": {},
     "output_type": "execute_result"
    }
   ],
   "source": [
    "True and False"
   ]
  },
  {
   "cell_type": "code",
   "execution_count": 26,
   "id": "464dc0b0-11dc-4a14-9890-e3e59d0af16c",
   "metadata": {},
   "outputs": [
    {
     "data": {
      "text/plain": [
       "True"
      ]
     },
     "execution_count": 26,
     "metadata": {},
     "output_type": "execute_result"
    }
   ],
   "source": [
    "True or False"
   ]
  },
  {
   "cell_type": "code",
   "execution_count": 27,
   "id": "7e6ba3da-755c-413e-a3a1-596cc6b704a8",
   "metadata": {},
   "outputs": [
    {
     "data": {
      "text/plain": [
       "True"
      ]
     },
     "execution_count": 27,
     "metadata": {},
     "output_type": "execute_result"
    }
   ],
   "source": [
    "True or True"
   ]
  },
  {
   "cell_type": "code",
   "execution_count": 28,
   "id": "8c185354-e2b4-4e60-bf3f-fc0bfcb9db9a",
   "metadata": {},
   "outputs": [
    {
     "data": {
      "text/plain": [
       "False"
      ]
     },
     "execution_count": 28,
     "metadata": {},
     "output_type": "execute_result"
    }
   ],
   "source": [
    "False or False"
   ]
  },
  {
   "cell_type": "code",
   "execution_count": 29,
   "id": "7be41578-2164-43ec-81a7-4c4fc2b0752e",
   "metadata": {},
   "outputs": [
    {
     "data": {
      "text/plain": [
       "True"
      ]
     },
     "execution_count": 29,
     "metadata": {},
     "output_type": "execute_result"
    }
   ],
   "source": [
    "False or True"
   ]
  },
  {
   "cell_type": "code",
   "execution_count": 30,
   "id": "199b1e56-32b5-40f2-a3c2-0544c68452c1",
   "metadata": {},
   "outputs": [
    {
     "data": {
      "text/plain": [
       "False"
      ]
     },
     "execution_count": 30,
     "metadata": {},
     "output_type": "execute_result"
    }
   ],
   "source": [
    "# Not operater\n",
    "not True"
   ]
  },
  {
   "cell_type": "code",
   "execution_count": 31,
   "id": "3d506f08-c11b-4e7a-8a75-f05071db5bcb",
   "metadata": {},
   "outputs": [
    {
     "data": {
      "text/plain": [
       "True"
      ]
     },
     "execution_count": 31,
     "metadata": {},
     "output_type": "execute_result"
    }
   ],
   "source": [
    "not False"
   ]
  },
  {
   "cell_type": "code",
   "execution_count": 32,
   "id": "39ae11c8-c9c4-47f6-93d6-a51503e0d4a8",
   "metadata": {},
   "outputs": [
    {
     "data": {
      "text/plain": [
       "10"
      ]
     },
     "execution_count": 32,
     "metadata": {},
     "output_type": "execute_result"
    }
   ],
   "source": [
    "# assignment Operater\n",
    "a=10\n",
    "a"
   ]
  },
  {
   "cell_type": "code",
   "execution_count": 33,
   "id": "a148e1aa-d586-49db-9ec7-5efec0e2be44",
   "metadata": {},
   "outputs": [
    {
     "data": {
      "text/plain": [
       "15"
      ]
     },
     "execution_count": 33,
     "metadata": {},
     "output_type": "execute_result"
    }
   ],
   "source": [
    "a+5"
   ]
  },
  {
   "cell_type": "code",
   "execution_count": 34,
   "id": "a9a79346-23d8-4e76-b57b-91f6a4d30e7a",
   "metadata": {},
   "outputs": [
    {
     "data": {
      "text/plain": [
       "16"
      ]
     },
     "execution_count": 34,
     "metadata": {},
     "output_type": "execute_result"
    }
   ],
   "source": [
    "b=10\n",
    "b+6"
   ]
  },
  {
   "cell_type": "code",
   "execution_count": 36,
   "id": "4464eea0-5c07-4a5c-87b0-9fc29e443f11",
   "metadata": {},
   "outputs": [
    {
     "data": {
      "text/plain": [
       "16"
      ]
     },
     "execution_count": 36,
     "metadata": {},
     "output_type": "execute_result"
    }
   ],
   "source": [
    "b=12\n",
    "b=b+4\n",
    "b"
   ]
  },
  {
   "cell_type": "code",
   "execution_count": 40,
   "id": "1f0520c2-ee55-4e5c-90ed-901013696d27",
   "metadata": {},
   "outputs": [
    {
     "data": {
      "text/plain": [
       "17"
      ]
     },
     "execution_count": 40,
     "metadata": {},
     "output_type": "execute_result"
    }
   ],
   "source": [
    "b=12\n",
    "b+=5\n",
    "b"
   ]
  },
  {
   "cell_type": "code",
   "execution_count": 39,
   "id": "c800f28c-4b83-42f5-9319-25e19d7e05a9",
   "metadata": {},
   "outputs": [
    {
     "data": {
      "text/plain": [
       "7"
      ]
     },
     "execution_count": 39,
     "metadata": {},
     "output_type": "execute_result"
    }
   ],
   "source": [
    "b=12\n",
    "b-=5\n",
    "b"
   ]
  },
  {
   "cell_type": "code",
   "execution_count": 41,
   "id": "ac1ebe05-ab42-48a6-8199-39068682d251",
   "metadata": {},
   "outputs": [
    {
     "data": {
      "text/plain": [
       "24"
      ]
     },
     "execution_count": 41,
     "metadata": {},
     "output_type": "execute_result"
    }
   ],
   "source": [
    "b=12\n",
    "b*=2\n",
    "b"
   ]
  },
  {
   "cell_type": "code",
   "execution_count": 42,
   "id": "4078019a-5a90-42b2-889a-840c7616eac8",
   "metadata": {},
   "outputs": [
    {
     "data": {
      "text/plain": [
       "15.0"
      ]
     },
     "execution_count": 42,
     "metadata": {},
     "output_type": "execute_result"
    }
   ],
   "source": [
    "b=45\n",
    "b/=3\n",
    "b"
   ]
  },
  {
   "cell_type": "code",
   "execution_count": 43,
   "id": "aa993f6f-4ca1-468e-b9dc-63a844dbc94c",
   "metadata": {},
   "outputs": [
    {
     "data": {
      "text/plain": [
       "True"
      ]
     },
     "execution_count": 43,
     "metadata": {},
     "output_type": "execute_result"
    }
   ],
   "source": [
    "# Membership Operater\n",
    "a=\"pwskills\"\n",
    "\"p\" in a"
   ]
  },
  {
   "cell_type": "code",
   "execution_count": 44,
   "id": "387242a2-9ebc-49dd-baac-5127fbe1b5f9",
   "metadata": {},
   "outputs": [
    {
     "data": {
      "text/plain": [
       "False"
      ]
     },
     "execution_count": 44,
     "metadata": {},
     "output_type": "execute_result"
    }
   ],
   "source": [
    "\"p\" not in a"
   ]
  },
  {
   "cell_type": "code",
   "execution_count": 45,
   "id": "b079f9c5-7889-4497-ad08-2469b7a9a52b",
   "metadata": {},
   "outputs": [
    {
     "data": {
      "text/plain": [
       "False"
      ]
     },
     "execution_count": 45,
     "metadata": {},
     "output_type": "execute_result"
    }
   ],
   "source": [
    "b=\"Ajay\"\n",
    "\"an\" in b"
   ]
  },
  {
   "cell_type": "code",
   "execution_count": 46,
   "id": "3c8e3f0d-7e9f-4aa0-81ac-f0bba591f467",
   "metadata": {},
   "outputs": [
    {
     "data": {
      "text/plain": [
       "True"
      ]
     },
     "execution_count": 46,
     "metadata": {},
     "output_type": "execute_result"
    }
   ],
   "source": [
    "\"Aj\" in b"
   ]
  },
  {
   "cell_type": "code",
   "execution_count": 47,
   "id": "401f03b3-45a1-4625-b1f2-bf95a4ba2fa2",
   "metadata": {},
   "outputs": [
    {
     "data": {
      "text/plain": [
       "False"
      ]
     },
     "execution_count": 47,
     "metadata": {},
     "output_type": "execute_result"
    }
   ],
   "source": [
    "\"Ram\" in b"
   ]
  },
  {
   "cell_type": "code",
   "execution_count": 48,
   "id": "f08bc545-fab6-4a77-8db2-954679f8959d",
   "metadata": {},
   "outputs": [
    {
     "data": {
      "text/plain": [
       "True"
      ]
     },
     "execution_count": 48,
     "metadata": {},
     "output_type": "execute_result"
    }
   ],
   "source": [
    "\"Ram\" not in b"
   ]
  },
  {
   "cell_type": "code",
   "execution_count": 49,
   "id": "5b7fc37b-73e2-4310-9799-dc445ee50279",
   "metadata": {},
   "outputs": [
    {
     "data": {
      "text/plain": [
       "True"
      ]
     },
     "execution_count": 49,
     "metadata": {},
     "output_type": "execute_result"
    }
   ],
   "source": [
    "a=[\"data\",\"analytics\",\"science\"]\n",
    "\"data\" in a"
   ]
  },
  {
   "cell_type": "code",
   "execution_count": 50,
   "id": "4e44a3b7-e2be-4887-98c4-47ef50428eda",
   "metadata": {},
   "outputs": [
    {
     "data": {
      "text/plain": [
       "False"
      ]
     },
     "execution_count": 50,
     "metadata": {},
     "output_type": "execute_result"
    }
   ],
   "source": [
    "\"Ajay\" in a"
   ]
  },
  {
   "cell_type": "code",
   "execution_count": 51,
   "id": "0889bfeb-c06e-469e-9720-4ebba08b729f",
   "metadata": {},
   "outputs": [],
   "source": [
    "# Identity Operater >>compare the location of two object/varible"
   ]
  },
  {
   "cell_type": "code",
   "execution_count": 52,
   "id": "615ef429-00ef-41a2-a47f-e62e194c48e6",
   "metadata": {},
   "outputs": [],
   "source": [
    "a=2\n",
    "b=3"
   ]
  },
  {
   "cell_type": "code",
   "execution_count": 53,
   "id": "289e79b8-195f-4398-b821-ea1f81fe7456",
   "metadata": {},
   "outputs": [
    {
     "data": {
      "text/plain": [
       "False"
      ]
     },
     "execution_count": 53,
     "metadata": {},
     "output_type": "execute_result"
    }
   ],
   "source": [
    "a is b"
   ]
  },
  {
   "cell_type": "code",
   "execution_count": 54,
   "id": "a649ea7e-7342-457f-94ae-a5d117476d7b",
   "metadata": {},
   "outputs": [
    {
     "data": {
      "text/plain": [
       "True"
      ]
     },
     "execution_count": 54,
     "metadata": {},
     "output_type": "execute_result"
    }
   ],
   "source": [
    "a is not b"
   ]
  },
  {
   "cell_type": "code",
   "execution_count": 55,
   "id": "0d4f161c-3569-46e5-b759-999ee7e9f3d0",
   "metadata": {},
   "outputs": [],
   "source": [
    "a=2\n",
    "b=a"
   ]
  },
  {
   "cell_type": "code",
   "execution_count": 56,
   "id": "d6773ac9-300d-4889-8f1b-7d797e619f8f",
   "metadata": {},
   "outputs": [
    {
     "data": {
      "text/plain": [
       "True"
      ]
     },
     "execution_count": 56,
     "metadata": {},
     "output_type": "execute_result"
    }
   ],
   "source": [
    "a is b"
   ]
  },
  {
   "cell_type": "code",
   "execution_count": 57,
   "id": "7e2f6598-471e-4cf9-a34b-6f67645a11ef",
   "metadata": {},
   "outputs": [
    {
     "data": {
      "text/plain": [
       "True"
      ]
     },
     "execution_count": 57,
     "metadata": {},
     "output_type": "execute_result"
    }
   ],
   "source": [
    "b is a"
   ]
  },
  {
   "cell_type": "code",
   "execution_count": 58,
   "id": "b241791a-5ebc-467f-8d4b-a5d41120e0cd",
   "metadata": {},
   "outputs": [
    {
     "data": {
      "text/plain": [
       "False"
      ]
     },
     "execution_count": 58,
     "metadata": {},
     "output_type": "execute_result"
    }
   ],
   "source": [
    "a is not b"
   ]
  },
  {
   "cell_type": "code",
   "execution_count": 60,
   "id": "9589dd0e-096d-4423-ba3d-210907f064f4",
   "metadata": {},
   "outputs": [],
   "source": [
    "# Bitwise operater >> operation at bit level, individuals bits within integer"
   ]
  },
  {
   "cell_type": "code",
   "execution_count": 61,
   "id": "2310b429-15e0-4e00-8950-82749029c5ce",
   "metadata": {},
   "outputs": [
    {
     "data": {
      "text/plain": [
       "10"
      ]
     },
     "execution_count": 61,
     "metadata": {},
     "output_type": "execute_result"
    }
   ],
   "source": [
    "10 & 10"
   ]
  },
  {
   "cell_type": "code",
   "execution_count": 62,
   "id": "34656ead-3111-4fd0-a4ba-5fecd084f252",
   "metadata": {},
   "outputs": [
    {
     "data": {
      "text/plain": [
       "10"
      ]
     },
     "execution_count": 62,
     "metadata": {},
     "output_type": "execute_result"
    }
   ],
   "source": [
    "10 & 11"
   ]
  },
  {
   "cell_type": "code",
   "execution_count": 63,
   "id": "6c3ccd20-7536-431b-9198-3dcdbf1c13da",
   "metadata": {},
   "outputs": [
    {
     "data": {
      "text/plain": [
       "'0b1010'"
      ]
     },
     "execution_count": 63,
     "metadata": {},
     "output_type": "execute_result"
    }
   ],
   "source": [
    "bin(10)"
   ]
  },
  {
   "cell_type": "code",
   "execution_count": 64,
   "id": "de337956-a1a7-4744-b3c3-2a22f03a8d54",
   "metadata": {},
   "outputs": [
    {
     "data": {
      "text/plain": [
       "2"
      ]
     },
     "execution_count": 64,
     "metadata": {},
     "output_type": "execute_result"
    }
   ],
   "source": [
    "18 & 3"
   ]
  },
  {
   "cell_type": "code",
   "execution_count": 65,
   "id": "45c845c9-e390-42ee-bdc2-ad4a41593076",
   "metadata": {},
   "outputs": [
    {
     "data": {
      "text/plain": [
       "2"
      ]
     },
     "execution_count": 65,
     "metadata": {},
     "output_type": "execute_result"
    }
   ],
   "source": [
    "10 & 2"
   ]
  },
  {
   "cell_type": "code",
   "execution_count": 66,
   "id": "4c1008be-958c-4f33-8b85-dfaff2c58ab5",
   "metadata": {},
   "outputs": [
    {
     "data": {
      "text/plain": [
       "'0b10010'"
      ]
     },
     "execution_count": 66,
     "metadata": {},
     "output_type": "execute_result"
    }
   ],
   "source": [
    "bin(18)"
   ]
  },
  {
   "cell_type": "code",
   "execution_count": 67,
   "id": "8a690095-92c3-4814-a739-b5e8ebdd2d46",
   "metadata": {},
   "outputs": [
    {
     "data": {
      "text/plain": [
       "'0b11'"
      ]
     },
     "execution_count": 67,
     "metadata": {},
     "output_type": "execute_result"
    }
   ],
   "source": [
    "bin(3)"
   ]
  },
  {
   "cell_type": "code",
   "execution_count": 72,
   "id": "8de12486-752a-4ba7-ac6e-74abd9a7c104",
   "metadata": {},
   "outputs": [
    {
     "data": {
      "text/plain": [
       "7"
      ]
     },
     "execution_count": 72,
     "metadata": {},
     "output_type": "execute_result"
    }
   ],
   "source": [
    "3|5"
   ]
  },
  {
   "cell_type": "code",
   "execution_count": 69,
   "id": "830836f0-1e60-44e9-a6b6-a5e30e65f8ad",
   "metadata": {},
   "outputs": [
    {
     "data": {
      "text/plain": [
       "'0b11'"
      ]
     },
     "execution_count": 69,
     "metadata": {},
     "output_type": "execute_result"
    }
   ],
   "source": [
    "bin(3)"
   ]
  },
  {
   "cell_type": "code",
   "execution_count": 70,
   "id": "7938b246-d8ba-435a-bd7d-4678d2a27dff",
   "metadata": {},
   "outputs": [
    {
     "data": {
      "text/plain": [
       "'0b101'"
      ]
     },
     "execution_count": 70,
     "metadata": {},
     "output_type": "execute_result"
    }
   ],
   "source": [
    "bin(5)"
   ]
  },
  {
   "cell_type": "code",
   "execution_count": 74,
   "id": "b8790f17-ce00-475c-94ac-21ef6302417e",
   "metadata": {},
   "outputs": [
    {
     "data": {
      "text/plain": [
       "-4"
      ]
     },
     "execution_count": 74,
     "metadata": {},
     "output_type": "execute_result"
    }
   ],
   "source": [
    "# Negation operater\n",
    "~3"
   ]
  },
  {
   "cell_type": "code",
   "execution_count": 75,
   "id": "0e5dc897-f9f5-4cce-b224-b532fe2ff571",
   "metadata": {},
   "outputs": [
    {
     "data": {
      "text/plain": [
       "-101"
      ]
     },
     "execution_count": 75,
     "metadata": {},
     "output_type": "execute_result"
    }
   ],
   "source": [
    "~100"
   ]
  },
  {
   "cell_type": "code",
   "execution_count": 76,
   "id": "0e4601b8-a81f-477f-8b16-3d21fa9ed9be",
   "metadata": {},
   "outputs": [
    {
     "data": {
      "text/plain": [
       "-7"
      ]
     },
     "execution_count": 76,
     "metadata": {},
     "output_type": "execute_result"
    }
   ],
   "source": [
    "~6"
   ]
  },
  {
   "cell_type": "code",
   "execution_count": 77,
   "id": "47cf34eb-65e9-40a9-8dce-aa0947ce2f23",
   "metadata": {},
   "outputs": [
    {
     "data": {
      "text/plain": [
       "6"
      ]
     },
     "execution_count": 77,
     "metadata": {},
     "output_type": "execute_result"
    }
   ],
   "source": [
    "# Bitwise xor operater >> ^\n",
    "5^3"
   ]
  },
  {
   "cell_type": "code",
   "execution_count": 78,
   "id": "d3405df3-8459-43b6-91eb-7827e5f3f7fe",
   "metadata": {},
   "outputs": [
    {
     "data": {
      "text/plain": [
       "'0b101'"
      ]
     },
     "execution_count": 78,
     "metadata": {},
     "output_type": "execute_result"
    }
   ],
   "source": [
    "bin(5)"
   ]
  },
  {
   "cell_type": "code",
   "execution_count": 79,
   "id": "3fcfe61b-5c11-45d8-936a-161199f5e214",
   "metadata": {},
   "outputs": [
    {
     "data": {
      "text/plain": [
       "'0b11'"
      ]
     },
     "execution_count": 79,
     "metadata": {},
     "output_type": "execute_result"
    }
   ],
   "source": [
    "bin(3)"
   ]
  },
  {
   "cell_type": "code",
   "execution_count": 80,
   "id": "46da54f0-c0ad-4d6f-9bf8-ce0fa38486d7",
   "metadata": {},
   "outputs": [
    {
     "data": {
      "text/plain": [
       "'0b110'"
      ]
     },
     "execution_count": 80,
     "metadata": {},
     "output_type": "execute_result"
    }
   ],
   "source": [
    "bin(6)"
   ]
  },
  {
   "cell_type": "code",
   "execution_count": 81,
   "id": "66cf0450-6802-4a26-acde-97db1cd276e2",
   "metadata": {},
   "outputs": [],
   "source": [
    "# h/w 2^6"
   ]
  },
  {
   "cell_type": "code",
   "execution_count": 84,
   "id": "ddd0705b-decd-4fa1-a70a-575cfe0bbd35",
   "metadata": {},
   "outputs": [],
   "source": [
    "#shift >> left shift and right shift"
   ]
  },
  {
   "cell_type": "code",
   "execution_count": null,
   "id": "a08cc8b4-e227-4730-85e6-83188e9938e6",
   "metadata": {},
   "outputs": [],
   "source": [
    "#shift >> shift the bits by left or right"
   ]
  },
  {
   "cell_type": "code",
   "execution_count": 85,
   "id": "7657cea7-2b31-4535-8dff-7fcf0018c874",
   "metadata": {},
   "outputs": [
    {
     "data": {
      "text/plain": [
       "280"
      ]
     },
     "execution_count": 85,
     "metadata": {},
     "output_type": "execute_result"
    }
   ],
   "source": [
    "# left shift --<<shift the bits to the left by a specified no of position ,filling no of the right\n",
    "35 << 3"
   ]
  },
  {
   "cell_type": "code",
   "execution_count": 86,
   "id": "687df331-9bdb-4413-9a65-723d66703f0d",
   "metadata": {},
   "outputs": [
    {
     "data": {
      "text/plain": [
       "'0b100011'"
      ]
     },
     "execution_count": 86,
     "metadata": {},
     "output_type": "execute_result"
    }
   ],
   "source": [
    "bin(35)"
   ]
  },
  {
   "cell_type": "code",
   "execution_count": 87,
   "id": "ee20956b-b7e9-4356-98f4-dffcc4a6b363",
   "metadata": {},
   "outputs": [
    {
     "data": {
      "text/plain": [
       "'0b11'"
      ]
     },
     "execution_count": 87,
     "metadata": {},
     "output_type": "execute_result"
    }
   ],
   "source": [
    "bin(3)"
   ]
  },
  {
   "cell_type": "code",
   "execution_count": 88,
   "id": "1a728436-22af-43ba-90c4-ead365e6035d",
   "metadata": {},
   "outputs": [
    {
     "data": {
      "text/plain": [
       "'0b100011000'"
      ]
     },
     "execution_count": 88,
     "metadata": {},
     "output_type": "execute_result"
    }
   ],
   "source": [
    "bin(280)"
   ]
  },
  {
   "cell_type": "code",
   "execution_count": 89,
   "id": "d6e367c3-afa4-4f12-87cf-8e004b64bab7",
   "metadata": {},
   "outputs": [
    {
     "data": {
      "text/plain": [
       "10"
      ]
     },
     "execution_count": 89,
     "metadata": {},
     "output_type": "execute_result"
    }
   ],
   "source": [
    "5 << 1 # left shift by 1"
   ]
  },
  {
   "cell_type": "code",
   "execution_count": 90,
   "id": "20f12eff-012f-4c5c-8804-8da0e3a69951",
   "metadata": {},
   "outputs": [
    {
     "data": {
      "text/plain": [
       "'0b101'"
      ]
     },
     "execution_count": 90,
     "metadata": {},
     "output_type": "execute_result"
    }
   ],
   "source": [
    "bin(5)"
   ]
  },
  {
   "cell_type": "code",
   "execution_count": 91,
   "id": "38433e86-80a2-4c17-acdd-01ea0190a8a8",
   "metadata": {},
   "outputs": [
    {
     "data": {
      "text/plain": [
       "'0b1'"
      ]
     },
     "execution_count": 91,
     "metadata": {},
     "output_type": "execute_result"
    }
   ],
   "source": [
    "bin(1)"
   ]
  },
  {
   "cell_type": "code",
   "execution_count": 92,
   "id": "146f0eee-20e9-43cb-ae7c-a45ea2518956",
   "metadata": {},
   "outputs": [
    {
     "data": {
      "text/plain": [
       "'0b1010'"
      ]
     },
     "execution_count": 92,
     "metadata": {},
     "output_type": "execute_result"
    }
   ],
   "source": [
    "bin(10)"
   ]
  },
  {
   "cell_type": "code",
   "execution_count": 93,
   "id": "c74ea795-2d6c-4717-bc8a-36c112ed1fd2",
   "metadata": {},
   "outputs": [
    {
     "data": {
      "text/plain": [
       "35"
      ]
     },
     "execution_count": 93,
     "metadata": {},
     "output_type": "execute_result"
    }
   ],
   "source": [
    "# Right shift operater >> remove the no of element in the binary\n",
    "280>>3"
   ]
  },
  {
   "cell_type": "code",
   "execution_count": 94,
   "id": "b2c13487-0de2-46cf-96aa-5a69af5242e1",
   "metadata": {},
   "outputs": [
    {
     "data": {
      "text/plain": [
       "'0b100011000'"
      ]
     },
     "execution_count": 94,
     "metadata": {},
     "output_type": "execute_result"
    }
   ],
   "source": [
    "bin(280)"
   ]
  },
  {
   "cell_type": "code",
   "execution_count": 95,
   "id": "6f3ddea7-255b-40c4-a223-34cd7e3e5286",
   "metadata": {},
   "outputs": [
    {
     "data": {
      "text/plain": [
       "'0b11'"
      ]
     },
     "execution_count": 95,
     "metadata": {},
     "output_type": "execute_result"
    }
   ],
   "source": [
    "bin(3)"
   ]
  },
  {
   "cell_type": "code",
   "execution_count": 96,
   "id": "8713b6c7-a27f-4e42-b72a-60aa34dced7a",
   "metadata": {},
   "outputs": [
    {
     "data": {
      "text/plain": [
       "'0b100011'"
      ]
     },
     "execution_count": 96,
     "metadata": {},
     "output_type": "execute_result"
    }
   ],
   "source": [
    "bin(35)"
   ]
  },
  {
   "cell_type": "code",
   "execution_count": 97,
   "id": "fe18287c-1354-4020-abdc-e1fc27fdf757",
   "metadata": {},
   "outputs": [
    {
     "data": {
      "text/plain": [
       "5"
      ]
     },
     "execution_count": 97,
     "metadata": {},
     "output_type": "execute_result"
    }
   ],
   "source": [
    "10 >> 1"
   ]
  },
  {
   "cell_type": "code",
   "execution_count": 98,
   "id": "4cad6d5a-284b-4fa0-a817-6d85836445f3",
   "metadata": {},
   "outputs": [
    {
     "data": {
      "text/plain": [
       "'0b1010'"
      ]
     },
     "execution_count": 98,
     "metadata": {},
     "output_type": "execute_result"
    }
   ],
   "source": [
    "bin(10)"
   ]
  },
  {
   "cell_type": "code",
   "execution_count": 99,
   "id": "728a9916-909f-4977-bf54-e700e74245cb",
   "metadata": {},
   "outputs": [
    {
     "data": {
      "text/plain": [
       "'0b101'"
      ]
     },
     "execution_count": 99,
     "metadata": {},
     "output_type": "execute_result"
    }
   ],
   "source": [
    "bin(5)"
   ]
  },
  {
   "cell_type": "code",
   "execution_count": 100,
   "id": "482dfeac-8243-4bb2-bc7f-6f025fc1315b",
   "metadata": {},
   "outputs": [],
   "source": [
    "# Order of Precedence\n",
    "# Execution of python statement will be left to right"
   ]
  },
  {
   "cell_type": "code",
   "execution_count": 102,
   "id": "1d50ee7c-237e-4540-bde8-ab62d92b1a15",
   "metadata": {},
   "outputs": [
    {
     "data": {
      "text/plain": [
       "13"
      ]
     },
     "execution_count": 102,
     "metadata": {},
     "output_type": "execute_result"
    }
   ],
   "source": [
    "b=5\n",
    "b+=8\n",
    "b"
   ]
  },
  {
   "cell_type": "code",
   "execution_count": 103,
   "id": "ce191ef0-967b-49fb-b802-646303b73ea4",
   "metadata": {},
   "outputs": [
    {
     "data": {
      "text/plain": [
       "-3"
      ]
     },
     "execution_count": 103,
     "metadata": {},
     "output_type": "execute_result"
    }
   ],
   "source": [
    "2+3-8"
   ]
  },
  {
   "cell_type": "code",
   "execution_count": 104,
   "id": "56e94921-2a26-4c90-a8e5-34b79c78632c",
   "metadata": {},
   "outputs": [
    {
     "data": {
      "text/plain": [
       "4"
      ]
     },
     "execution_count": 104,
     "metadata": {},
     "output_type": "execute_result"
    }
   ],
   "source": [
    "# Always paranthesis\n",
    "(5+3)-4"
   ]
  },
  {
   "cell_type": "code",
   "execution_count": 105,
   "id": "a5384b11-47bc-4479-b084-d6e2de08a7bd",
   "metadata": {},
   "outputs": [
    {
     "data": {
      "text/plain": [
       "-4"
      ]
     },
     "execution_count": 105,
     "metadata": {},
     "output_type": "execute_result"
    }
   ],
   "source": [
    "4-(3+5)"
   ]
  },
  {
   "cell_type": "code",
   "execution_count": 109,
   "id": "cee3dcf1-47a6-4470-b3de-79e7af74a9ec",
   "metadata": {},
   "outputs": [
    {
     "data": {
      "text/plain": [
       "60.0"
      ]
     },
     "execution_count": 109,
     "metadata": {},
     "output_type": "execute_result"
    }
   ],
   "source": [
    "(10+5)*(8/2)"
   ]
  },
  {
   "cell_type": "code",
   "execution_count": null,
   "id": "c871a177-75e3-42bf-9820-3d7c5fd57886",
   "metadata": {},
   "outputs": [],
   "source": []
  }
 ],
 "metadata": {
  "kernelspec": {
   "display_name": "Python 3 (ipykernel)",
   "language": "python",
   "name": "python3"
  },
  "language_info": {
   "codemirror_mode": {
    "name": "ipython",
    "version": 3
   },
   "file_extension": ".py",
   "mimetype": "text/x-python",
   "name": "python",
   "nbconvert_exporter": "python",
   "pygments_lexer": "ipython3",
   "version": "3.10.8"
  }
 },
 "nbformat": 4,
 "nbformat_minor": 5
}
