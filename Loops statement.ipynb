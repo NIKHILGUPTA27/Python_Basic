{
 "cells": [
  {
   "cell_type": "code",
   "execution_count": 2,
   "id": "0664a65c-9179-41f9-aead-6991c4c0388a",
   "metadata": {},
   "outputs": [],
   "source": [
    "# Loop statement >> IT allow you to execute a block of code repeatedly\n",
    "# Loops >> while loop and for loops\n"
   ]
  },
  {
   "cell_type": "code",
   "execution_count": 3,
   "id": "f1c9a25a-55ce-4685-812e-ac9d6d3b21ef",
   "metadata": {},
   "outputs": [],
   "source": [
    "# While >> Repeatedly executed a block of code untill a condition is met"
   ]
  },
  {
   "cell_type": "code",
   "execution_count": 4,
   "id": "9e5b143b-b674-4102-9ad8-059c365e9239",
   "metadata": {},
   "outputs": [],
   "source": [
    "# Stntax \n",
    "# While Condition:\n",
    "# Block of code\n",
    "# >> While is a key word used for a while loop"
   ]
  },
  {
   "cell_type": "code",
   "execution_count": 1,
   "id": "fe4d549a-219d-425a-ba7e-2db12ed7e9bb",
   "metadata": {},
   "outputs": [
    {
     "name": "stdout",
     "output_type": "stream",
     "text": [
      "1\n",
      "2\n",
      "3\n",
      "4\n",
      "5\n",
      "6\n"
     ]
    }
   ],
   "source": [
    "n=7\n",
    "i=1\n",
    "while i<n:\n",
    "    print(i)\n",
    "    i=i+1"
   ]
  },
  {
   "cell_type": "code",
   "execution_count": 2,
   "id": "c61d529a-3d1e-4b9b-a7b3-10652fb21ac2",
   "metadata": {},
   "outputs": [
    {
     "name": "stdout",
     "output_type": "stream",
     "text": [
      "5\n",
      "4\n",
      "3\n",
      "2\n",
      "1\n"
     ]
    }
   ],
   "source": [
    "count = 5\n",
    "while count > 0:\n",
    "    print(count)\n",
    "    count= count-1"
   ]
  },
  {
   "cell_type": "code",
   "execution_count": 3,
   "id": "866ed163-772a-4dfb-bb9c-37872ce38f49",
   "metadata": {},
   "outputs": [
    {
     "name": "stdout",
     "output_type": "stream",
     "text": [
      "5\n",
      "4\n",
      "3\n",
      "2\n",
      "1\n",
      "This will be executed when the while is run successfully without any break\n"
     ]
    }
   ],
   "source": [
    "count = 5\n",
    "while count > 0:\n",
    "    print(count)\n",
    "    count= count-1\n",
    "else:\n",
    "    print(\"This will be executed when the while is run successfully without any break\")"
   ]
  },
  {
   "cell_type": "code",
   "execution_count": 5,
   "id": "0745d630-9998-4edc-9acf-75737708cfba",
   "metadata": {},
   "outputs": [
    {
     "name": "stdout",
     "output_type": "stream",
     "text": [
      "1\n",
      "2\n"
     ]
    }
   ],
   "source": [
    "# Break terminate/exits the loop\n",
    "# The condition is met it will break loop\n",
    "n=7\n",
    "i=1\n",
    "while i<n:\n",
    "    print(i)\n",
    "    i=i+1\n",
    "    if i==3:\n",
    "        break\n",
    "else:\n",
    "    print(\"This will be executed when the while is run successfully without any break\")"
   ]
  },
  {
   "cell_type": "code",
   "execution_count": 8,
   "id": "5560d1e1-3ff7-42d3-b3eb-bb33bb72c48b",
   "metadata": {},
   "outputs": [
    {
     "name": "stdout",
     "output_type": "stream",
     "text": [
      "2\n",
      "4\n",
      "5\n",
      "6\n",
      "7\n",
      "This will be executed when the while is run successfully without any break\n"
     ]
    }
   ],
   "source": [
    "# Continue >> skip the iteration\n",
    "n=7\n",
    "i=1\n",
    "while i<n:\n",
    "    i=i+1\n",
    "    if i==3:\n",
    "        continue\n",
    "    print(i)    \n",
    "else:\n",
    "    print(\"This will be executed when the while is run successfully without any break\")"
   ]
  },
  {
   "cell_type": "code",
   "execution_count": 9,
   "id": "848d5048-78ec-4407-aa0c-ebb45668eb39",
   "metadata": {},
   "outputs": [
    {
     "name": "stdout",
     "output_type": "stream",
     "text": [
      "p\n",
      "w\n",
      "s\n",
      "k\n",
      "i\n",
      "l\n",
      "l\n",
      "s\n"
     ]
    }
   ],
   "source": [
    "# for loop >> iterate over a sequence of elements >> , list \n",
    "for i in \"pwskills\":\n",
    "    print(i)"
   ]
  },
  {
   "cell_type": "code",
   "execution_count": 10,
   "id": "af785f7d-a92a-4d3d-b766-9c4601e57946",
   "metadata": {},
   "outputs": [
    {
     "name": "stdout",
     "output_type": "stream",
     "text": [
      "p\n",
      "w\n",
      "s\n",
      "k\n",
      "i\n",
      "l\n",
      "l\n",
      "s\n"
     ]
    }
   ],
   "source": [
    "a=\"pwskills\"\n",
    "for i in a:\n",
    "    print(i)"
   ]
  },
  {
   "cell_type": "code",
   "execution_count": 12,
   "id": "7957070c-91a6-41fb-8a33-1becb004265f",
   "metadata": {},
   "outputs": [
    {
     "name": "stdout",
     "output_type": "stream",
     "text": [
      "Nikhil\n",
      "LucKy\n",
      "Divyanshu\n",
      "Alok\n"
     ]
    }
   ],
   "source": [
    "l=[\"Nikhil\",\"LucKy\",\"Divyanshu\",\"Alok\"]\n",
    "for i in l:\n",
    "    print(i)"
   ]
  },
  {
   "cell_type": "code",
   "execution_count": 13,
   "id": "03e08b9a-f892-4fb9-b4c0-102cc86d0518",
   "metadata": {},
   "outputs": [
    {
     "name": "stdout",
     "output_type": "stream",
     "text": [
      "Nikhil\n",
      "LucKy\n",
      "Divyanshu\n",
      "Alok\n",
      "This will be executed when for loop ends without a break statement \n"
     ]
    }
   ],
   "source": [
    "for i in l:\n",
    "    print (i)\n",
    "else:\n",
    "    print(\"This will be executed when for loop ends without a break statement \")"
   ]
  },
  {
   "cell_type": "code",
   "execution_count": 16,
   "id": "bfd9d9b1-b295-4b4d-a557-60b7a146fff4",
   "metadata": {},
   "outputs": [
    {
     "name": "stdout",
     "output_type": "stream",
     "text": [
      "Nikhil\n",
      "LucKy\n"
     ]
    }
   ],
   "source": [
    "# Break statement i for loop\n",
    "for i in l:\n",
    "    if i==\"Divyanshu\":\n",
    "        break\n",
    "    print(i)\n",
    "else:\n",
    "    print(\"This will be executed when for loop ends without a break statement \")\n",
    "    "
   ]
  },
  {
   "cell_type": "code",
   "execution_count": 17,
   "id": "2b104fb7-9f96-4ad9-9afb-15be93638bcf",
   "metadata": {},
   "outputs": [
    {
     "name": "stdout",
     "output_type": "stream",
     "text": [
      "Nikhil\n",
      "LucKy\n",
      "Alok\n",
      "This will be executed when for loop ends without a break statement \n"
     ]
    }
   ],
   "source": [
    "for i in l:\n",
    "    if i==\"Divyanshu\":\n",
    "        continue\n",
    "    print(i)\n",
    "else:\n",
    "    print(\"This will be executed when for loop ends without a break statement \")"
   ]
  },
  {
   "cell_type": "code",
   "execution_count": 21,
   "id": "86c9a964-b92d-455c-900d-09f45483687d",
   "metadata": {},
   "outputs": [
    {
     "data": {
      "text/plain": [
       "[0, 1, 2, 3, 4, 5, 6, 7, 8, 9]"
      ]
     },
     "execution_count": 21,
     "metadata": {},
     "output_type": "execute_result"
    }
   ],
   "source": [
    "list(range (0,10)) # it will give value 0 to 9"
   ]
  },
  {
   "cell_type": "code",
   "execution_count": 24,
   "id": "ecb7970c-7eaa-4c03-8a6b-8f3a00777dfe",
   "metadata": {},
   "outputs": [
    {
     "name": "stdout",
     "output_type": "stream",
     "text": [
      "0 1 2 3 4 5 6 7 8 9 "
     ]
    }
   ],
   "source": [
    "for i in range(10):\n",
    "    print(i,end=\" \")"
   ]
  },
  {
   "cell_type": "code",
   "execution_count": 25,
   "id": "e0c18a0b-2dfc-42b8-a49d-e39ffa6e82d6",
   "metadata": {},
   "outputs": [
    {
     "data": {
      "text/plain": [
       "[0, 5, 10, 15, 20, 25, 30, 35, 40, 45, 50, 55, 60, 65, 70, 75, 80, 85, 90, 95]"
      ]
     },
     "execution_count": 25,
     "metadata": {},
     "output_type": "execute_result"
    }
   ],
   "source": [
    "# Sytax of range(start , stop , step)\n",
    "list(range(0,100,5))"
   ]
  },
  {
   "cell_type": "code",
   "execution_count": 27,
   "id": "1f8a5b69-905f-4430-b741-419aba403453",
   "metadata": {},
   "outputs": [
    {
     "name": "stdout",
     "output_type": "stream",
     "text": [
      "* \n",
      "* * \n",
      "* * * \n",
      "* * * * \n"
     ]
    }
   ],
   "source": [
    "# Problem statement\n",
    "# print a right triangle with * using while loop\n",
    "row=1\n",
    "while row<=4:\n",
    "    col=1\n",
    "    while col <= row:\n",
    "        print(\"*\",end=\" \")\n",
    "        col=col+1\n",
    "    print()\n",
    "    row=row+1\n",
    "    "
   ]
  },
  {
   "cell_type": "code",
   "execution_count": 1,
   "id": "efcc1929-7b84-4896-9b5e-5504ba8bf5e1",
   "metadata": {},
   "outputs": [
    {
     "name": "stdout",
     "output_type": "stream",
     "text": [
      "* \n",
      "* * \n",
      "* * * \n",
      "* * * * \n",
      "* * * * * \n"
     ]
    }
   ],
   "source": [
    "row=1\n",
    "while row<=5:\n",
    "    col=1\n",
    "    while col<=row:\n",
    "        print(\"*\",end=\" \")\n",
    "        col=col+1\n",
    "    print()\n",
    "    row=row+1\n",
    "    "
   ]
  },
  {
   "cell_type": "code",
   "execution_count": 10,
   "id": "1164bc14-7530-4260-9f8b-8cb53225f111",
   "metadata": {},
   "outputs": [
    {
     "name": "stdout",
     "output_type": "stream",
     "text": [
      "* \n",
      "* * \n",
      "* * * \n",
      "* * * * \n"
     ]
    }
   ],
   "source": [
    "# Problem statement\n",
    "# print a right triangle with * using for loop\n",
    "for i in range(4):\n",
    "    for j in range(i+1):\n",
    "        print(\"*\",end=\" \")\n",
    "    print()\n",
    "    "
   ]
  },
  {
   "cell_type": "code",
   "execution_count": 11,
   "id": "400e39e5-7fdf-43a8-af8c-f3664f987451",
   "metadata": {},
   "outputs": [
    {
     "ename": "SyntaxError",
     "evalue": "invalid syntax (1148560763.py, line 2)",
     "output_type": "error",
     "traceback": [
      "\u001b[0;36m  Cell \u001b[0;32mIn[11], line 2\u001b[0;36m\u001b[0m\n\u001b[0;31m    * * *\u001b[0m\n\u001b[0m      ^\u001b[0m\n\u001b[0;31mSyntaxError\u001b[0m\u001b[0;31m:\u001b[0m invalid syntax\n"
     ]
    }
   ],
   "source": [
    "# iternal homework:>> squre of starn\n",
    "* * *\n",
    "* * *\n",
    "* * *"
   ]
  },
  {
   "cell_type": "code",
   "execution_count": 13,
   "id": "cceb9ec1-76b3-4f61-89e7-9586fe53d94d",
   "metadata": {},
   "outputs": [
    {
     "name": "stdout",
     "output_type": "stream",
     "text": [
      "1\n",
      "2\n",
      "4\n",
      "5\n",
      "6\n",
      "8\n",
      "9\n"
     ]
    }
   ],
   "source": [
    "# conditional with for loops\n",
    "number =[1,2,3,4,5,6,7,8,9]\n",
    "for num in number:\n",
    "    if (num==3) or (num==7):\n",
    "        continue\n",
    "    print(num) "
   ]
  },
  {
   "cell_type": "code",
   "execution_count": 14,
   "id": "c7305193-5043-4b77-ad3f-785b48586571",
   "metadata": {},
   "outputs": [
    {
     "name": "stdout",
     "output_type": "stream",
     "text": [
      "1\n",
      "2\n"
     ]
    }
   ],
   "source": [
    "# conditional with for loops\n",
    "number =[1,2,3,4,5,6,7,8,9]\n",
    "for num in number:\n",
    "    if (num==3) or (num==7):\n",
    "        break\n",
    "    print(num) "
   ]
  },
  {
   "cell_type": "code",
   "execution_count": 15,
   "id": "7c88f875-df80-4d5e-8814-7ac557ee972c",
   "metadata": {},
   "outputs": [
    {
     "name": "stdout",
     "output_type": "stream",
     "text": [
      "0\n",
      "2\n",
      "4\n",
      "6\n",
      "8\n"
     ]
    }
   ],
   "source": [
    "# print the evem number\n",
    "for i in range(10):\n",
    "    if i%2!=0:\n",
    "        continue\n",
    "    print(i)"
   ]
  },
  {
   "cell_type": "code",
   "execution_count": 16,
   "id": "1d3e296b-2259-48dd-8c26-ab758d3daccd",
   "metadata": {},
   "outputs": [
    {
     "name": "stdout",
     "output_type": "stream",
     "text": [
      "1\n",
      "3\n",
      "5\n",
      "7\n",
      "9\n"
     ]
    }
   ],
   "source": [
    "# print the odd number\n",
    "for i in range(10):\n",
    "    if i%2==0:\n",
    "        continue\n",
    "    print(i)"
   ]
  },
  {
   "cell_type": "code",
   "execution_count": 21,
   "id": "12ff166b-74ec-4ba0-aa08-03fd97177ffe",
   "metadata": {},
   "outputs": [
    {
     "name": "stdout",
     "output_type": "stream",
     "text": [
      "1 * 1 = 1 \n",
      "1 * 2 = 2 \n",
      "1 * 3 = 3 \n",
      "1 * 4 = 4 \n",
      "1 * 5 = 5 \n",
      "1 * 6 = 6 \n",
      "1 * 7 = 7 \n",
      "1 * 8 = 8 \n",
      "1 * 9 = 9 \n",
      "1 * 10 = 10 \n",
      "\n",
      "2 * 1 = 2 \n",
      "2 * 2 = 4 \n",
      "2 * 3 = 6 \n",
      "2 * 4 = 8 \n",
      "2 * 5 = 10 \n",
      "2 * 6 = 12 \n",
      "2 * 7 = 14 \n",
      "2 * 8 = 16 \n",
      "2 * 9 = 18 \n",
      "2 * 10 = 20 \n",
      "\n",
      "3 * 1 = 3 \n",
      "3 * 2 = 6 \n",
      "3 * 3 = 9 \n",
      "3 * 4 = 12 \n",
      "3 * 5 = 15 \n",
      "3 * 6 = 18 \n",
      "3 * 7 = 21 \n",
      "3 * 8 = 24 \n",
      "3 * 9 = 27 \n",
      "3 * 10 = 30 \n",
      "\n",
      "4 * 1 = 4 \n",
      "4 * 2 = 8 \n",
      "4 * 3 = 12 \n",
      "4 * 4 = 16 \n",
      "4 * 5 = 20 \n",
      "4 * 6 = 24 \n",
      "4 * 7 = 28 \n",
      "4 * 8 = 32 \n",
      "4 * 9 = 36 \n",
      "4 * 10 = 40 \n",
      "\n",
      "5 * 1 = 5 \n",
      "5 * 2 = 10 \n",
      "5 * 3 = 15 \n",
      "5 * 4 = 20 \n",
      "5 * 5 = 25 \n",
      "5 * 6 = 30 \n",
      "5 * 7 = 35 \n",
      "5 * 8 = 40 \n",
      "5 * 9 = 45 \n",
      "5 * 10 = 50 \n",
      "\n"
     ]
    }
   ],
   "source": [
    "# Multiplication table \n",
    "for i in range (1,6):\n",
    "    for j in range(1,11):\n",
    "        product=i*j\n",
    "        print(f\"{i} * {j} = {product} \")\n",
    "    print()"
   ]
  },
  {
   "cell_type": "code",
   "execution_count": 51,
   "id": "b8b3e2f7-ca85-49c9-a0f5-d73bd63218ee",
   "metadata": {},
   "outputs": [
    {
     "name": "stdout",
     "output_type": "stream",
     "text": [
      "* \n",
      "* * \n",
      "* * * \n",
      "* * * * \n"
     ]
    }
   ],
   "source": [
    "# Problem statement\n",
    "# print a right triangle with * using for loop\n",
    "for i in range(4):\n",
    "    for j in range(i+1):\n",
    "        print(\"*\",end=\" \")\n",
    "    print()\n",
    "    "
   ]
  },
  {
   "cell_type": "code",
   "execution_count": 55,
   "id": "186c0c9e-6769-4712-8702-046c6ad80da4",
   "metadata": {},
   "outputs": [
    {
     "name": "stdout",
     "output_type": "stream",
     "text": [
      " \n",
      "* * *  \n",
      "* * *  \n",
      "* * * "
     ]
    }
   ],
   "source": [
    "# Problem statement\n",
    "# print a squre of star * using for loop\n",
    "for i in range(3):\n",
    "    print(\" \")\n",
    "    for j in range (3):\n",
    "        print(\"*\",end=\" \")"
   ]
  },
  {
   "cell_type": "code",
   "execution_count": 53,
   "id": "f5b4b992-0da6-4193-b498-3ea586520856",
   "metadata": {},
   "outputs": [
    {
     "name": "stdout",
     "output_type": "stream",
     "text": [
      " \n",
      "  * \n",
      " \n",
      "  *   * \n",
      " \n",
      "  *   *   * \n",
      " \n",
      "  *   *   *   * \n"
     ]
    }
   ],
   "source": [
    "for i in range(4):\n",
    "    print(\" \")\n",
    "    for j in range(i+1):\n",
    "        print(\" \",end=\" \")\n",
    "        print(\"*\",end=\" \")\n",
    "    print()"
   ]
  },
  {
   "cell_type": "code",
   "execution_count": 3,
   "id": "6bf0eda2-9758-4ab1-994c-527b37740938",
   "metadata": {},
   "outputs": [
    {
     "name": "stdout",
     "output_type": "stream",
     "text": [
      "Washing shirt\n",
      "Washing pants\n",
      "Washing towel\n",
      "Washing ['socks']\n"
     ]
    }
   ],
   "source": [
    "clothes = [\"shirt\", \"sock\", \"pants\", \"sock\", \"towel\"]\n",
    "paired_socks = []\n",
    "for item in clothes:\n",
    "    if item == \"sock\":\n",
    "        continue\n",
    "    print(f\"Washing {item}\")\n",
    "paired_socks.append(\"socks\")\n",
    "print(f\"Washing {paired_socks}\")\n"
   ]
  },
  {
   "cell_type": "code",
   "execution_count": 4,
   "id": "0523c2ec-dddd-40eb-8a15-85287190ef49",
   "metadata": {},
   "outputs": [
    {
     "name": "stdout",
     "output_type": "stream",
     "text": [
      "Day 1: Run 3.0 miles\n",
      "Day 2: Run 3.5 miles\n",
      "Day 3: Run 4.0 miles\n",
      "Day 4: Run 4.5 miles\n",
      "Day 5: Run 5.0 miles\n",
      "Day 6: Run 5.5 miles\n",
      "Day 7: Run 6.0 miles\n"
     ]
    }
   ],
   "source": [
    "for day in range(1, 8):\n",
    "    distance = 3 + (day - 1) * 0.5\n",
    "    print(f\"Day {day}: Run {distance:.1f} miles\")\n"
   ]
  },
  {
   "cell_type": "code",
   "execution_count": 6,
   "id": "2b92773b-a7cb-498b-9c92-dfe478084cfb",
   "metadata": {},
   "outputs": [
    {
     "name": "stdout",
     "output_type": "stream",
     "text": [
      "1 4\n",
      "1 5\n",
      "2 4\n",
      "2 5\n"
     ]
    }
   ],
   "source": [
    "x = [1, 2]\n",
    "y = [4, 5]\n",
    "\n",
    "for i in x:\n",
    "    \n",
    "    for j in y:\n",
    "\t    print(i, j)\n"
   ]
  },
  {
   "cell_type": "code",
   "execution_count": 8,
   "id": "e92c15f1-1056-468b-b1ae-eb865c19284a",
   "metadata": {},
   "outputs": [
    {
     "name": "stdout",
     "output_type": "stream",
     "text": [
      "1 4\n",
      "1 5\n",
      "2 4\n",
      "2 5\n"
     ]
    }
   ],
   "source": [
    "x = [1, 2]\n",
    "y = [4, 5]\n",
    "i = 0\n",
    "while i < len(x) :\n",
    "    j = 0\n",
    "    while j < len(y) :\n",
    "\t    print(x[i] , y[j])\n",
    "\t    j = j + 1\n",
    "    i = i + 1\n"
   ]
  },
  {
   "cell_type": "code",
   "execution_count": 1,
   "id": "f79f906b-000c-4c89-b527-8af2fc2500c6",
   "metadata": {},
   "outputs": [
    {
     "name": "stdout",
     "output_type": "stream",
     "text": [
      "start outer for loop \n",
      "I am  healthy\n",
      "I am  fine\n",
      "I am  geek\n",
      "end for loop \n",
      "start outer for loop \n",
      "You are  healthy\n",
      "You are  fine\n",
      "You are  geek\n",
      "end for loop \n"
     ]
    }
   ],
   "source": [
    "# Initialize list1 and list2\n",
    "# with some strings\n",
    "list1 = ['I am ', 'You are ']\n",
    "list2 = ['healthy', 'fine', 'geek']\n",
    "\n",
    "# Store length of list2 in list2_size\n",
    "list2_size = len(list2)\n",
    "\n",
    "# Running outer for loop to\n",
    "# iterate through a list1.\n",
    "for item in list1:\n",
    "\n",
    "\t# Printing outside inner loop\n",
    "\tprint(\"start outer for loop \")\n",
    "\t# Initialize counter i with 0\n",
    "\ti = 0\n",
    "\t# Running inner While loop to\n",
    "\t# iterate through a list2.\n",
    "\twhile(i < list2_size):\n",
    "\t\n",
    "\t\t# Printing inside inner loop\n",
    "\t\tprint(item, list2[i])\n",
    "\t\t# Incrementing the value of i\n",
    "\t\ti = i+1\n",
    "\t# Printing outside inner loop\n",
    "\tprint(\"end for loop \")\n"
   ]
  },
  {
   "cell_type": "code",
   "execution_count": 2,
   "id": "d3787344-66f8-4d8c-9947-7738394f7aea",
   "metadata": {},
   "outputs": [
    {
     "name": "stdout",
     "output_type": "stream",
     "text": [
      "2\n",
      "I am nikhil\n",
      "I am Lucky\n",
      "End of loop\n",
      "you are nikhil\n",
      "you are Lucky\n",
      "End of loop\n"
     ]
    }
   ],
   "source": [
    "list1=[\"I am\",\"you are\"]\n",
    "list2=[\"nikhil\",\"Lucky\"]\n",
    "list2_size=len(list2)\n",
    "print(list2_size)\n",
    "for item in list1:\n",
    "    \n",
    "    i=0\n",
    "    while (i < list2_size):\n",
    "        print(item,list2[i])\n",
    "        i = i+1\n",
    "    print(\"End of loop\")"
   ]
  },
  {
   "cell_type": "code",
   "execution_count": 4,
   "id": "91a9f56c-97f0-44ef-9cf5-4981f02c0bf9",
   "metadata": {},
   "outputs": [
    {
     "name": "stdout",
     "output_type": "stream",
     "text": [
      "2 * 1 = 2\n",
      "\n",
      "3 * 1 = 3\n",
      "3 * 2 = 6\n",
      "\n"
     ]
    }
   ],
   "source": [
    "# Running outer loop from 2 to 3\n",
    "for i in range(2, 4):\n",
    "\n",
    "\t# Printing inside the outer loop\n",
    "\t# Running inner loop from 1 to 10\n",
    "\tfor j in range(1, 11):\n",
    "\t    if i==j:\n",
    "\t\t    break\n",
    "\t# Printing inside the inner loop\n",
    "\t    print(f\"{i} * {j} = {}\")\n",
    "\t# Printing inside the outer loop\n",
    "\tprint()\n"
   ]
  },
  {
   "cell_type": "code",
   "execution_count": 2,
   "id": "a512740a-0250-4e94-b585-858ab534b7f2",
   "metadata": {},
   "outputs": [
    {
     "name": "stdout",
     "output_type": "stream",
     "text": [
      "1 <class 'int'>\n",
      "2 <class 'int'>\n",
      "3 <class 'int'>\n",
      "4 <class 'int'>\n",
      "5 <class 'int'>\n"
     ]
    }
   ],
   "source": [
    "l1=[1,2,3,4,5]\n",
    "for i in l1:\n",
    "    \n",
    "    print(i,type(i))"
   ]
  },
  {
   "cell_type": "code",
   "execution_count": 3,
   "id": "acc8d8ce-1a98-44bf-a1aa-79401f827b4a",
   "metadata": {},
   "outputs": [
    {
     "name": "stdout",
     "output_type": "stream",
     "text": [
      "Nikhil <class 'str'>\n",
      "Divyanshu <class 'str'>\n",
      "Alok <class 'str'>\n",
      "Lucky <class 'str'>\n"
     ]
    }
   ],
   "source": [
    "l2=[\"Nikhil\",\"Divyanshu\",\"Alok\",\"Lucky\"]\n",
    "for i in l2:\n",
    "    print(i,type(i))"
   ]
  },
  {
   "cell_type": "code",
   "execution_count": 4,
   "id": "9df9f6fc-eb8f-4cff-bcae-a0cad9a51fd3",
   "metadata": {},
   "outputs": [
    {
     "data": {
      "text/plain": [
       "[1, 2, 3, 4, 5]"
      ]
     },
     "execution_count": 4,
     "metadata": {},
     "output_type": "execute_result"
    }
   ],
   "source": [
    "l1"
   ]
  },
  {
   "cell_type": "code",
   "execution_count": 5,
   "id": "7c94fe7f-51c0-466d-b426-43c1378d7c01",
   "metadata": {},
   "outputs": [
    {
     "name": "stdout",
     "output_type": "stream",
     "text": [
      "1\n",
      "2\n",
      "3\n",
      "4\n",
      "5\n",
      "do something\n"
     ]
    }
   ],
   "source": [
    "for i in l1:\n",
    "    print(i)\n",
    "else:\n",
    "    print(\"if for loop is able to complete itself then only will execute\")"
   ]
  },
  {
   "cell_type": "code",
   "execution_count": 6,
   "id": "7fa3fe24-7cf9-4d22-b453-b2108bd94bce",
   "metadata": {},
   "outputs": [
    {
     "data": {
      "text/plain": [
       "[1, 2, 3, 4, 5]"
      ]
     },
     "execution_count": 6,
     "metadata": {},
     "output_type": "execute_result"
    }
   ],
   "source": [
    "l1"
   ]
  },
  {
   "cell_type": "code",
   "execution_count": 7,
   "id": "bfdbad05-8c47-48be-8bb7-ea79d5921268",
   "metadata": {},
   "outputs": [
    {
     "name": "stdout",
     "output_type": "stream",
     "text": [
      "1\n"
     ]
    }
   ],
   "source": [
    "for i in l1:\n",
    "    if i==2:\n",
    "        break\n",
    "    print(i)\n"
   ]
  },
  {
   "cell_type": "code",
   "execution_count": 8,
   "id": "0678bac3-dead-4e55-97bc-54e8ab37f5d7",
   "metadata": {},
   "outputs": [
    {
     "data": {
      "text/plain": [
       "[1, 2, 3, 4, 5]"
      ]
     },
     "execution_count": 8,
     "metadata": {},
     "output_type": "execute_result"
    }
   ],
   "source": [
    "l1"
   ]
  },
  {
   "cell_type": "code",
   "execution_count": 9,
   "id": "d63f835c-1fec-47a9-ab8b-119978988677",
   "metadata": {},
   "outputs": [
    {
     "name": "stdout",
     "output_type": "stream",
     "text": [
      "1\n"
     ]
    }
   ],
   "source": [
    "for i in l1:\n",
    "    if i==2:\n",
    "        break\n",
    "    print(i)\n",
    "else:\n",
    "    print(\"if for loop is able to complete itself then only will execute\")"
   ]
  },
  {
   "cell_type": "code",
   "execution_count": 11,
   "id": "f063bc0d-ad5c-4cd9-beb4-7ba0078ec309",
   "metadata": {},
   "outputs": [
    {
     "name": "stdout",
     "output_type": "stream",
     "text": [
      "1\n",
      "3\n",
      "4\n",
      "5\n",
      "if for loop is able to complete itself then only will execute\n"
     ]
    }
   ],
   "source": [
    "for i in l1:\n",
    "    if i==2:\n",
    "        continue\n",
    "    print(i)\n",
    "else:\n",
    "    \n",
    "    print(\"if for loop is able to complete itself then only will execute\")"
   ]
  },
  {
   "cell_type": "code",
   "execution_count": 12,
   "id": "5376a52a-e445-46c7-b891-d693f2193f51",
   "metadata": {},
   "outputs": [
    {
     "data": {
      "text/plain": [
       "range(0, 5)"
      ]
     },
     "execution_count": 12,
     "metadata": {},
     "output_type": "execute_result"
    }
   ],
   "source": [
    "range(0,5)"
   ]
  },
  {
   "cell_type": "code",
   "execution_count": 13,
   "id": "756142d2-904d-4eb4-8bd0-46137385d39c",
   "metadata": {},
   "outputs": [
    {
     "data": {
      "text/plain": [
       "[0, 1, 2, 3, 4]"
      ]
     },
     "execution_count": 13,
     "metadata": {},
     "output_type": "execute_result"
    }
   ],
   "source": [
    "list(range(5))"
   ]
  },
  {
   "cell_type": "code",
   "execution_count": 14,
   "id": "8ee3894d-9709-46f2-98b3-2ed4f27df4cb",
   "metadata": {},
   "outputs": [
    {
     "data": {
      "text/plain": [
       "[0, 1, 2, 3, 4]"
      ]
     },
     "execution_count": 14,
     "metadata": {},
     "output_type": "execute_result"
    }
   ],
   "source": [
    "list(range(0,5,1))"
   ]
  },
  {
   "cell_type": "code",
   "execution_count": 15,
   "id": "1893d63f-9e0f-4f8d-a7e1-bc120c889354",
   "metadata": {},
   "outputs": [
    {
     "data": {
      "text/plain": [
       "[0, 2, 4, 6, 8, 10, 12, 14, 16, 18]"
      ]
     },
     "execution_count": 15,
     "metadata": {},
     "output_type": "execute_result"
    }
   ],
   "source": [
    "list(range(0,20,2))"
   ]
  },
  {
   "cell_type": "code",
   "execution_count": 16,
   "id": "58c02e4f-63a3-4073-b32d-eb708016dd17",
   "metadata": {},
   "outputs": [
    {
     "data": {
      "text/plain": [
       "[-10, -9, -8, -7, -6, -5, -4, -3, -2, -1]"
      ]
     },
     "execution_count": 16,
     "metadata": {},
     "output_type": "execute_result"
    }
   ],
   "source": [
    "list(range(-10,0))"
   ]
  },
  {
   "cell_type": "code",
   "execution_count": 18,
   "id": "2ff0ecb4-8334-4446-a10c-be19d5a2bbbd",
   "metadata": {},
   "outputs": [
    {
     "data": {
      "text/plain": [
       "['Nikhil', 'Divyanshu', 'Lucky', 'Alok']"
      ]
     },
     "execution_count": 18,
     "metadata": {},
     "output_type": "execute_result"
    }
   ],
   "source": [
    "l3=[\"Nikhil\",\"Divyanshu\",\"Lucky\",\"Alok\"]\n",
    "l3"
   ]
  },
  {
   "cell_type": "code",
   "execution_count": 19,
   "id": "9af863e5-1e19-4735-8bd1-4d97c0ae7695",
   "metadata": {},
   "outputs": [
    {
     "data": {
      "text/plain": [
       "['Nikhil', 'Divyanshu', 'Lucky', 'Alok']"
      ]
     },
     "execution_count": 19,
     "metadata": {},
     "output_type": "execute_result"
    }
   ],
   "source": [
    "l3"
   ]
  },
  {
   "cell_type": "code",
   "execution_count": 20,
   "id": "2e926ae3-c4f7-4b57-8cc9-915602d106e3",
   "metadata": {},
   "outputs": [
    {
     "data": {
      "text/plain": [
       "4"
      ]
     },
     "execution_count": 20,
     "metadata": {},
     "output_type": "execute_result"
    }
   ],
   "source": [
    "len(l3)"
   ]
  },
  {
   "cell_type": "code",
   "execution_count": 21,
   "id": "e4c2c433-2df4-45ef-8f52-ee8ee2a5c50c",
   "metadata": {},
   "outputs": [
    {
     "data": {
      "text/plain": [
       "[0, 1, 2, 3]"
      ]
     },
     "execution_count": 21,
     "metadata": {},
     "output_type": "execute_result"
    }
   ],
   "source": [
    "list(range(len(l3)))"
   ]
  },
  {
   "cell_type": "code",
   "execution_count": 23,
   "id": "f4e84773-a2a5-4aed-9385-052cc17f25d9",
   "metadata": {},
   "outputs": [
    {
     "name": "stdout",
     "output_type": "stream",
     "text": [
      "Nikhil\n",
      "Divyanshu\n",
      "Lucky\n",
      "Alok\n"
     ]
    }
   ],
   "source": [
    "for i in range (len(l3)):\n",
    "    print(l3[i])\n",
    "    "
   ]
  },
  {
   "cell_type": "code",
   "execution_count": 24,
   "id": "acfa162e-9244-40fd-a5df-11ca7cc87b6e",
   "metadata": {},
   "outputs": [
    {
     "name": "stdout",
     "output_type": "stream",
     "text": [
      "Nikhil\n",
      "Divyanshu\n",
      "Lucky\n",
      "Alok\n"
     ]
    }
   ],
   "source": [
    "for i in l3:\n",
    "    print(i)"
   ]
  },
  {
   "cell_type": "code",
   "execution_count": 25,
   "id": "03e0de6c-b3e3-491e-bccd-f03f3e799b74",
   "metadata": {},
   "outputs": [
    {
     "data": {
      "text/plain": [
       "4"
      ]
     },
     "execution_count": 25,
     "metadata": {},
     "output_type": "execute_result"
    }
   ],
   "source": [
    "len(l3)"
   ]
  },
  {
   "cell_type": "code",
   "execution_count": 29,
   "id": "030a7eb4-5e05-4ddd-a933-cf0235d8c922",
   "metadata": {},
   "outputs": [
    {
     "data": {
      "text/plain": [
       "[4, 3, 2, 1]"
      ]
     },
     "execution_count": 29,
     "metadata": {},
     "output_type": "execute_result"
    }
   ],
   "source": [
    "list(range(len(l3),0,-1))"
   ]
  },
  {
   "cell_type": "code",
   "execution_count": 3,
   "id": "31fa6c57-f87a-4b5f-915b-d6db16e9def5",
   "metadata": {},
   "outputs": [
    {
     "data": {
      "text/plain": [
       "['Nikhil', 'Divyanshu', 'Lucky', 'Alok']"
      ]
     },
     "execution_count": 3,
     "metadata": {},
     "output_type": "execute_result"
    }
   ],
   "source": [
    "l3=[\"Nikhil\",\"Divyanshu\",\"Lucky\",\"Alok\"]\n",
    "l3"
   ]
  },
  {
   "cell_type": "code",
   "execution_count": 5,
   "id": "9b017048-7b95-4eb8-83cf-8c8ecd3d9731",
   "metadata": {},
   "outputs": [
    {
     "name": "stdout",
     "output_type": "stream",
     "text": [
      "Alok\n",
      "Lucky\n",
      "Divyanshu\n",
      "Nikhil\n"
     ]
    }
   ],
   "source": [
    "for i in range(len(l3)-1,-1,-1):\n",
    "    print(l3[i])"
   ]
  },
  {
   "cell_type": "code",
   "execution_count": 6,
   "id": "a20e26c8-0d44-4f5b-a13d-234f4673c2e7",
   "metadata": {},
   "outputs": [
    {
     "data": {
      "text/plain": [
       "[0, 1, 2, 3, 4, 5, 6, 7, 8, 9, 10, 11, 12, 13, 14, 15, 16]"
      ]
     },
     "execution_count": 6,
     "metadata": {},
     "output_type": "execute_result"
    }
   ],
   "source": [
    "l2=[1,2,3,4,5,6,7,8,9,12,34,13,45,67,9999,456,14567]\n",
    "list(range(len(l2)))"
   ]
  },
  {
   "cell_type": "code",
   "execution_count": 12,
   "id": "38e78a8b-dfe8-4bb3-8215-b01e3a9d27fb",
   "metadata": {},
   "outputs": [
    {
     "name": "stdout",
     "output_type": "stream",
     "text": [
      "0 1\n",
      "2 3\n",
      "4 5\n",
      "6 7\n",
      "8 9\n",
      "10 34\n",
      "12 45\n",
      "14 9999\n",
      "16 14567\n"
     ]
    }
   ],
   "source": [
    "for i in range(0,len(l2),2):\n",
    "    print(i,(l2[i]))"
   ]
  },
  {
   "cell_type": "code",
   "execution_count": 13,
   "id": "69f93836-09b9-4d99-b4df-f206043fb61c",
   "metadata": {},
   "outputs": [
    {
     "data": {
      "text/plain": [
       "[1, 2, 3, 4, 5, 6, 7, 8, 9, 12, 34, 13, 45, 67, 9999, 456, 14567]"
      ]
     },
     "execution_count": 13,
     "metadata": {},
     "output_type": "execute_result"
    }
   ],
   "source": [
    "l2"
   ]
  },
  {
   "cell_type": "code",
   "execution_count": 17,
   "id": "e1bc254b-2570-44f4-af07-a4711208ebbc",
   "metadata": {},
   "outputs": [
    {
     "name": "stdout",
     "output_type": "stream",
     "text": [
      "14567\n"
     ]
    }
   ],
   "source": [
    "sum=0\n",
    "for i in l2:\n",
    "    i=i+sum\n",
    "print(i)"
   ]
  },
  {
   "cell_type": "code",
   "execution_count": 19,
   "id": "893491fe-9293-4104-8990-b7661a0bc6c7",
   "metadata": {},
   "outputs": [
    {
     "name": "stdout",
     "output_type": "stream",
     "text": [
      "0 1\n",
      "2 3\n",
      "4 5\n",
      "6 7\n",
      "8 9\n",
      "10 34\n",
      "12 45\n",
      "14 9999\n",
      "16 14567\n"
     ]
    }
   ],
   "source": [
    "for i in range(0,len(l2),2):\n",
    "    print(i,(l2[i]))"
   ]
  },
  {
   "cell_type": "code",
   "execution_count": 16,
   "id": "edcf4812-8d59-4313-94df-7e3784b62746",
   "metadata": {},
   "outputs": [
    {
     "name": "stdout",
     "output_type": "stream",
     "text": [
      "even\n",
      "0\n",
      "odd\n",
      "1\n",
      "even\n",
      "2\n",
      "odd\n",
      "3\n",
      "even\n",
      "4\n",
      "4\n"
     ]
    }
   ],
   "source": [
    "l2=[1,2,34,5,8]\n",
    "for i in range(len(l2)):\n",
    "    if i%2!=0:\n",
    "        print(\"odd\")\n",
    "    else:\n",
    "        print(\"even\")\n",
    "    print(i)\n",
    "print(i)"
   ]
  },
  {
   "cell_type": "code",
   "execution_count": 1,
   "id": "99f5fd3c-9df5-4e18-8800-02579616b4a4",
   "metadata": {},
   "outputs": [
    {
     "name": "stdout",
     "output_type": "stream",
     "text": [
      "0\n",
      "1\n",
      "2\n",
      "3\n",
      "4\n",
      "5\n",
      "6\n",
      "7\n",
      "8\n",
      "9\n"
     ]
    }
   ],
   "source": [
    "list=[1,2,3,4,5,6,7,8,9,10]\n",
    "for i in range(0,len(list)):\n",
    "    if i%2==0:\n",
    "        prin\n",
    "    "
   ]
  },
  {
   "cell_type": "code",
   "execution_count": 2,
   "id": "664c7da3-7cf4-42f8-949f-c5214f771183",
   "metadata": {},
   "outputs": [
    {
     "name": "stdout",
     "output_type": "stream",
     "text": [
      "index 1 = even number= 2\n",
      "index 3 = even number= 4\n",
      "index 5 = even number= 6\n",
      "index 7 = even number= 8\n"
     ]
    }
   ],
   "source": [
    "l2 = [1, 2, 3, 4, 5, 6, 7, 8, 9]\n",
    "\n",
    "# Use range(len(l2)) to iterate over valid indices of l2\n",
    "for i in range(len(l2)):\n",
    "    if i % 2 != 0:  # Check if the index i is odd\n",
    "        print(f\"index {i} = even number= {l2[i]}\")  # Print the index i and the corresponding value in l2"
   ]
  },
  {
   "cell_type": "code",
   "execution_count": 22,
   "id": "c8585306-9228-4d8a-a288-2753275e17f6",
   "metadata": {},
   "outputs": [
    {
     "data": {
      "text/plain": [
       "9"
      ]
     },
     "execution_count": 22,
     "metadata": {},
     "output_type": "execute_result"
    }
   ],
   "source": [
    "list=[1,2,3,4,5,6,7,8,9]\n",
    "len(list)"
   ]
  },
  {
   "cell_type": "code",
   "execution_count": 4,
   "id": "9974cc6a-6b35-47ac-b950-8d7ab8439353",
   "metadata": {},
   "outputs": [
    {
     "name": "stdout",
     "output_type": "stream",
     "text": [
      "index 0 = odd number= 1\n",
      "index 2 = odd number= 3\n",
      "index 4 = odd number= 5\n",
      "index 6 = odd number= 7\n",
      "index 8 = odd number= 9\n"
     ]
    }
   ],
   "source": [
    "l2 = [1, 2, 3, 4, 5, 6, 7, 8, 9]\n",
    "\n",
    "# Use range(len(l2)) to iterate over valid indices of l2\n",
    "for i in range(len(l2)):\n",
    "    if i % 2 == 0:  # Check if the index i is even\n",
    "        print(f\"index {i} = odd number= {l2[i]}\")# Print the index i and the corresponding value in l2"
   ]
  },
  {
   "cell_type": "code",
   "execution_count": null,
   "id": "52d00e84-f2c2-4339-a7bc-ddf0f3c5b175",
   "metadata": {},
   "outputs": [],
   "source": []
  }
 ],
 "metadata": {
  "kernelspec": {
   "display_name": "Python 3 (ipykernel)",
   "language": "python",
   "name": "python3"
  },
  "language_info": {
   "codemirror_mode": {
    "name": "ipython",
    "version": 3
   },
   "file_extension": ".py",
   "mimetype": "text/x-python",
   "name": "python",
   "nbconvert_exporter": "python",
   "pygments_lexer": "ipython3",
   "version": "3.10.8"
  }
 },
 "nbformat": 4,
 "nbformat_minor": 5
}
