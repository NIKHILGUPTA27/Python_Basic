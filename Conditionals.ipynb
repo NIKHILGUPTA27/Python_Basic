{
 "cells": [
  {
   "cell_type": "raw",
   "id": "02489d17-4cfb-4189-ac7b-a7a6c6378889",
   "metadata": {},
   "source": [
    "Flow control in python refer to the mechanisms that govern the order in which statement and instruction are executed . this is crucial for implemented logic in your program"
   ]
  },
  {
   "cell_type": "code",
   "execution_count": 1,
   "id": "8a92de27-f673-4bda-a437-f765b30cfd5f",
   "metadata": {},
   "outputs": [],
   "source": [
    "# Conditinals >> I will keep checking out all the dishes in a buffer \n",
    "# Loop >> I will keep checking out dishes untill all the dishes are over in a buffer\n",
    "# Break statement >> I will check out all the dishes untill biryani,I get pastha "
   ]
  },
  {
   "cell_type": "code",
   "execution_count": 4,
   "id": "afc6fc46-4dcb-4600-81f5-4b0ccf559f92",
   "metadata": {},
   "outputs": [],
   "source": [
    "# Conditional Statement >> Help you to code decision based on some precondition\n",
    "# if\n",
    "# if-else\n",
    "# if elif(if-else) else\n",
    "# nested if else"
   ]
  },
  {
   "cell_type": "code",
   "execution_count": 5,
   "id": "03e91e79-c54e-4a68-bdd8-3707f8a253b1",
   "metadata": {
    "tags": []
   },
   "outputs": [],
   "source": [
    "# if Statement\n",
    "# Syntax\n",
    "# if condition True:\n",
    "#     blocks of code will be executed\n",
    "    "
   ]
  },
  {
   "cell_type": "code",
   "execution_count": 6,
   "id": "2ddc7df5-c643-49b1-b717-922ad426558c",
   "metadata": {},
   "outputs": [
    {
     "data": {
      "text/plain": [
       "True"
      ]
     },
     "execution_count": 6,
     "metadata": {},
     "output_type": "execute_result"
    }
   ],
   "source": [
    "3>2"
   ]
  },
  {
   "cell_type": "code",
   "execution_count": 7,
   "id": "9d8eda99-48a0-4467-9d9a-792752ec64eb",
   "metadata": {},
   "outputs": [
    {
     "data": {
      "text/plain": [
       "False"
      ]
     },
     "execution_count": 7,
     "metadata": {},
     "output_type": "execute_result"
    }
   ],
   "source": [
    "3>6"
   ]
  },
  {
   "cell_type": "code",
   "execution_count": 9,
   "id": "323643ac-9e39-4b6e-b8a6-1b007dfa1473",
   "metadata": {},
   "outputs": [
    {
     "name": "stdout",
     "output_type": "stream",
     "text": [
      "The number is greather than 0.\n"
     ]
    }
   ],
   "source": [
    "a=100\n",
    "if a>0: # Execute the if block/body of it ,if the condition is true\n",
    "    print(\"The number is greather than 0.\")"
   ]
  },
  {
   "cell_type": "code",
   "execution_count": 16,
   "id": "6492e331-287b-4ace-b8ea-504c89e2a11b",
   "metadata": {},
   "outputs": [
    {
     "name": "stdout",
     "output_type": "stream",
     "text": [
      "i will not play cricket\n"
     ]
    }
   ],
   "source": [
    "weather=\"Rainy\"\n",
    "if weather == \"Rainy\":\n",
    "    print(\"i will not play cricket\")\n"
   ]
  },
  {
   "cell_type": "code",
   "execution_count": 17,
   "id": "213e5d15-4994-44ea-a8da-8dca157d8fc2",
   "metadata": {},
   "outputs": [
    {
     "name": "stdout",
     "output_type": "stream",
     "text": [
      "I will play cricket\n"
     ]
    }
   ],
   "source": [
    "weather =\"sunny\"\n",
    "if weather ==\"sunny\":\n",
    "    print(\"I will play cricket\")"
   ]
  },
  {
   "cell_type": "code",
   "execution_count": 18,
   "id": "77b5c70f-f536-4ddc-86f9-19bbf7e63c44",
   "metadata": {},
   "outputs": [],
   "source": [
    "weather =\"rainy\"\n",
    "if weather == \"sunny\":\n",
    "    print(\"I will play cricket\") # Identation is necessary"
   ]
  },
  {
   "cell_type": "code",
   "execution_count": 19,
   "id": "a700c10b-2c9a-4b62-a9bd-62e70972cadb",
   "metadata": {},
   "outputs": [
    {
     "name": "stdout",
     "output_type": "stream",
     "text": [
      "room temp\n"
     ]
    }
   ],
   "source": [
    "temp=30\n",
    "if temp > 25:\n",
    "    print(\"room temp\")"
   ]
  },
  {
   "cell_type": "code",
   "execution_count": 20,
   "id": "7f23e238-0013-4565-8c4a-6428f6aa40e9",
   "metadata": {},
   "outputs": [
    {
     "name": "stdout",
     "output_type": "stream",
     "text": [
      "I am studying the course\n"
     ]
    }
   ],
   "source": [
    "is_ds_course= True\n",
    "if is_ds_course:\n",
    "    print(\"I am studying the course\")"
   ]
  },
  {
   "cell_type": "code",
   "execution_count": 21,
   "id": "28265556-5de1-4994-9fce-02f60ec11c7a",
   "metadata": {},
   "outputs": [
    {
     "name": "stdout",
     "output_type": "stream",
     "text": [
      "You are execellent\n"
     ]
    }
   ],
   "source": [
    "grade=8\n",
    "if grade >=8:\n",
    "    print(\"You are execellent\")"
   ]
  },
  {
   "cell_type": "code",
   "execution_count": 22,
   "id": "d70a6257-8afe-47cf-aa90-ce4d89210668",
   "metadata": {},
   "outputs": [
    {
     "name": "stdout",
     "output_type": "stream",
     "text": [
      "The number is even\n"
     ]
    }
   ],
   "source": [
    "number = 42\n",
    "if number % 2 == 0:\n",
    "    print(\"The number is even\")"
   ]
  },
  {
   "cell_type": "code",
   "execution_count": 23,
   "id": "bdbac4a4-1d6a-4db9-9721-36bd2d5c5810",
   "metadata": {},
   "outputs": [
    {
     "name": "stdout",
     "output_type": "stream",
     "text": [
      "this number is interst\n"
     ]
    }
   ],
   "source": [
    "# In real life , decision are made based on multiple conditions\n",
    "\n",
    "number = 42\n",
    "if ((number % 2==0)&(number > 0)):\n",
    "    print(\"this number is interst\")\n",
    "    "
   ]
  },
  {
   "cell_type": "code",
   "execution_count": 24,
   "id": "5d569105-0399-45c7-a5cd-2a0cc7d8fa7b",
   "metadata": {},
   "outputs": [
    {
     "name": "stdout",
     "output_type": "stream",
     "text": [
      "you are all rounder\n"
     ]
    }
   ],
   "source": [
    "grade =8\n",
    "co_cirr=True\n",
    "if ((grade >=8) and (co_cirr == True)):\n",
    "    print(\"you are all rounder\")"
   ]
  },
  {
   "cell_type": "code",
   "execution_count": 25,
   "id": "8f240046-96a7-45ac-8e18-0b68ec2db9a8",
   "metadata": {},
   "outputs": [],
   "source": [
    "# In real life if one condition is not fulfilled ,you will do something else\n",
    "# Example : # weather is not rainy , i will go to play cricket else i will wateh tv "
   ]
  },
  {
   "cell_type": "code",
   "execution_count": 27,
   "id": "38323471-8d37-4765-a7aa-8ad1d937b6dc",
   "metadata": {},
   "outputs": [
    {
     "name": "stdout",
     "output_type": "stream",
     "text": [
      "I will not play cricket\n"
     ]
    }
   ],
   "source": [
    "# if-else >> execute the if block when the condition is true else execute else block \n",
    "weather =\"Rainy\"\n",
    "if weather ==\"Rainy\": # condition is true ,execute if block\n",
    "    print(\"I will not play cricket\")\n",
    "else: # condition is not true ,else block will be executed\n",
    "    print(\"I will play cricket match\")"
   ]
  },
  {
   "cell_type": "code",
   "execution_count": 28,
   "id": "29de3b94-5f2a-41c0-93bf-42ddb6fc7774",
   "metadata": {},
   "outputs": [
    {
     "name": "stdout",
     "output_type": "stream",
     "text": [
      "I will play cricket match\n"
     ]
    }
   ],
   "source": [
    "weather =\"Rainy\"\n",
    "if weather ==\"Sunny\":\n",
    "    print(\"I will not play cricket\")\n",
    "else:\n",
    "    print(\"I will play cricket match\")"
   ]
  },
  {
   "cell_type": "code",
   "execution_count": 29,
   "id": "77c5da65-fbf7-4bca-86e8-a2a2a92b7a35",
   "metadata": {},
   "outputs": [
    {
     "name": "stdout",
     "output_type": "stream",
     "text": [
      "you will be served alcohal\n"
     ]
    }
   ],
   "source": [
    "age=21\n",
    "if age >=18:\n",
    "    print(\"you will be served alcohal\")\n",
    "else:\n",
    "    print(\"get out of the bar\")\n",
    "    "
   ]
  },
  {
   "cell_type": "code",
   "execution_count": 30,
   "id": "70fcae7f-09fd-4e27-883c-9d3a276b36df",
   "metadata": {},
   "outputs": [
    {
     "name": "stdout",
     "output_type": "stream",
     "text": [
      "get out of the bar\n"
     ]
    }
   ],
   "source": [
    "age=17\n",
    "if age >=18:\n",
    "    print(\"you will be served alcohal\")\n",
    "else:\n",
    "    print(\"get out of the bar\")\n",
    "    "
   ]
  },
  {
   "cell_type": "code",
   "execution_count": 31,
   "id": "fc4b8b43-4c0e-4bf1-a880-c24d589ecc8b",
   "metadata": {},
   "outputs": [
    {
     "name": "stdout",
     "output_type": "stream",
     "text": [
      "do not drive\n"
     ]
    }
   ],
   "source": [
    "age=12\n",
    "if age >=18:\n",
    "    print(\"please have a draving licence and drive\")\n",
    "else:\n",
    "    print(\"do not drive\")\n",
    "    "
   ]
  },
  {
   "cell_type": "code",
   "execution_count": 32,
   "id": "22186d97-73a5-4358-9c6e-21d100022669",
   "metadata": {},
   "outputs": [
    {
     "name": "stdout",
     "output_type": "stream",
     "text": [
      "I am stuyding\n"
     ]
    }
   ],
   "source": [
    "is_ds_couse=True\n",
    "if is_ds_couse:\n",
    "    print(\"I am stuyding\")\n",
    "else:\n",
    "    print(\"I am playing cricket\")"
   ]
  },
  {
   "cell_type": "code",
   "execution_count": 33,
   "id": "cbdaea76-bedc-4bd5-b8e9-ada43a771aa3",
   "metadata": {},
   "outputs": [
    {
     "name": "stdout",
     "output_type": "stream",
     "text": [
      "The number is less than 5\n"
     ]
    }
   ],
   "source": [
    "x=1\n",
    "if x>=5:\n",
    "    print(\"x is grether than 5\")\n",
    "else:\n",
    "    print(\"The number is less than 5\")"
   ]
  },
  {
   "cell_type": "code",
   "execution_count": 34,
   "id": "bec3f09e-0329-4682-a352-156f223235c8",
   "metadata": {},
   "outputs": [
    {
     "name": "stdout",
     "output_type": "stream",
     "text": [
      "Number is odd\n"
     ]
    }
   ],
   "source": [
    "# to check if a no is even\n",
    "number=45\n",
    "if number % 2==0:\n",
    "    print(\"Number is even\")\n",
    "else:\n",
    "    print(\"Number is odd\")"
   ]
  },
  {
   "cell_type": "code",
   "execution_count": 36,
   "id": "68a7d86e-efe5-4d90-bb05-af7b13ef94c1",
   "metadata": {},
   "outputs": [
    {
     "name": "stdout",
     "output_type": "stream",
     "text": [
      "you are passed\n"
     ]
    }
   ],
   "source": [
    "score=33\n",
    "if score>=33:\n",
    "    print(\"you are passed\")\n",
    "else:\n",
    "    print(\"You are not passed\")"
   ]
  },
  {
   "cell_type": "code",
   "execution_count": null,
   "id": "f9909493-cec8-4706-b675-1c1f4d9252a5",
   "metadata": {},
   "outputs": [],
   "source": [
    "# if else >> two condition \n",
    "# in real life we can have multiple condition\n",
    "# if some condition \n",
    "# elif some condition\n",
    "# else"
   ]
  },
  {
   "cell_type": "code",
   "execution_count": 1,
   "id": "1d238890-1a68-494d-b88f-6bbc814246b2",
   "metadata": {},
   "outputs": [
    {
     "name": "stdout",
     "output_type": "stream",
     "text": [
      "this block will be executed if a is lesser than 100\n"
     ]
    }
   ],
   "source": [
    "a=10\n",
    "if a>100:\n",
    "    print(\"This block will be executed if a is greather than 100\")\n",
    "elif a<100:\n",
    "    print(\"this block will be executed if a is lesser than 100\")\n",
    "else:\n",
    "    print(\"The number is equals to 100\")\n",
    "    \n",
    "    "
   ]
  },
  {
   "cell_type": "code",
   "execution_count": 2,
   "id": "87101edd-4f0a-4e00-bc99-ea6d86bb1ab7",
   "metadata": {},
   "outputs": [
    {
     "name": "stdout",
     "output_type": "stream",
     "text": [
      "The number is equals to 100\n"
     ]
    }
   ],
   "source": [
    "a=100\n",
    "if a>100:\n",
    "    print(\"This block will be executed if a is greather than 100\")\n",
    "elif a<100:\n",
    "    print(\"this block will be executed if a is lesser than 100\")\n",
    "else:\n",
    "    print(\"The number is equals to 100\")\n",
    "    \n",
    "    "
   ]
  },
  {
   "cell_type": "code",
   "execution_count": 11,
   "id": "e5f9a128-5b43-4eb3-aea2-51131f5a4727",
   "metadata": {},
   "outputs": [
    {
     "name": "stdout",
     "output_type": "stream",
     "text": [
      "The number is huge\n"
     ]
    }
   ],
   "source": [
    "a=3000\n",
    "if a<100:\n",
    "    print(\"this block will be executed if a is lesser than 100\")\n",
    "elif a>2000:\n",
    "    print(\"The number is huge\")\n",
    "elif a>100:\n",
    "    print(\"This block will be executed if a is greather than 100\")\n",
    "else:\n",
    "    print(\"The number is equals to 100\")\n",
    "    \n",
    "    "
   ]
  },
  {
   "cell_type": "code",
   "execution_count": 13,
   "id": "9ca1afe7-bde3-4883-b7a0-a10d2ab3bf37",
   "metadata": {},
   "outputs": [
    {
     "name": "stdout",
     "output_type": "stream",
     "text": [
      "Grade B\n"
     ]
    }
   ],
   "source": [
    "score =80\n",
    "if score >= 90:\n",
    "    print(\"Grade A\")\n",
    "elif (80 <= score < 90):\n",
    "    print(\"Grade B\")\n",
    "elif (70 <= score <80):\n",
    "    print(\"Grade C\")\n",
    "else:\n",
    "    print(\"Grade D\")"
   ]
  },
  {
   "cell_type": "code",
   "execution_count": 14,
   "id": "e8d22340-939d-4e3a-ab01-cad547976e1c",
   "metadata": {},
   "outputs": [
    {
     "name": "stdout",
     "output_type": "stream",
     "text": [
      "you are aduld\n"
     ]
    }
   ],
   "source": [
    "age =30\n",
    "if age <18:\n",
    "    print(\"You are minority\")\n",
    "elif 18<age<=65:\n",
    "    print(\"you are aduld\")\n",
    "else: \n",
    "    print(\"You are senior citizen\")"
   ]
  },
  {
   "cell_type": "code",
   "execution_count": 16,
   "id": "5098dbec-6f90-49dc-b407-9c7898f5d7fc",
   "metadata": {},
   "outputs": [
    {
     "name": "stdout",
     "output_type": "stream",
     "text": [
      "Both x and y is greather than 5\n"
     ]
    }
   ],
   "source": [
    "# Nested if else\n",
    "x=6\n",
    "y=6\n",
    "if x>5:\n",
    "    if y>5:\n",
    "        print(\"Both x and y is greather than 5\")\n",
    "    else:\n",
    "        print(\"x is a greather than 5 but y is less than 5 \")\n",
    "else:\n",
    "    print(\"x is not greather than 5\")"
   ]
  },
  {
   "cell_type": "code",
   "execution_count": 17,
   "id": "53914347-00cb-407a-bd67-fb8fceeb334a",
   "metadata": {},
   "outputs": [
    {
     "name": "stdout",
     "output_type": "stream",
     "text": [
      "x is not greather than 5\n"
     ]
    }
   ],
   "source": [
    "x=3\n",
    "y=6\n",
    "if x>5:\n",
    "    if y>5:\n",
    "        print(\"Both x and y is greather than 5\")\n",
    "    else:\n",
    "        print(\"x is a greather than 5 but y is less than 5 \")\n",
    "else:\n",
    "    print(\"x is not greather than 5\")"
   ]
  },
  {
   "cell_type": "code",
   "execution_count": 18,
   "id": "6ab2070a-711a-41c9-82b4-02434df5bd5e",
   "metadata": {},
   "outputs": [
    {
     "name": "stdout",
     "output_type": "stream",
     "text": [
      "x is a greather than 5 but y is less than 5 \n"
     ]
    }
   ],
   "source": [
    "x=6\n",
    "y=4\n",
    "if x>5:\n",
    "    if y>5:\n",
    "        print(\"Both x and y is greather than 5\")\n",
    "    else:\n",
    "        print(\"x is a greather than 5 but y is less than 5 \")\n",
    "else:\n",
    "    print(\"x is not greather than 5\")"
   ]
  },
  {
   "cell_type": "code",
   "execution_count": 20,
   "id": "465df206-0ec8-4e03-a7e1-5cf84f77a542",
   "metadata": {},
   "outputs": [
    {
     "name": "stdout",
     "output_type": "stream",
     "text": [
      "You are not vip customer and will be charge a reguler price\n"
     ]
    }
   ],
   "source": [
    "is_vip=False\n",
    "age=70\n",
    "if is_vip:\n",
    "    if age >=18:\n",
    "        if age <65:\n",
    "            print(\"Welcome to the customer\")\n",
    "        else:\n",
    "            print(\"You are vip and very imp. you are eligible for senior citizion discount\")\n",
    "    else:\n",
    "        print(\"Vip status is only for adult\")\n",
    "else:\n",
    "    print(\"You are not vip customer and will be charge a reguler price\")\n",
    "        "
   ]
  },
  {
   "cell_type": "code",
   "execution_count": 21,
   "id": "42a82919-9078-4b83-8c13-0b8054cf38b3",
   "metadata": {},
   "outputs": [
    {
     "name": "stdout",
     "output_type": "stream",
     "text": [
      "You are vip and very imp. you are eligible for senior citizion discount\n"
     ]
    }
   ],
   "source": [
    "is_vip=True\n",
    "age=70\n",
    "if is_vip:\n",
    "    if age >=18:\n",
    "        if age <65:\n",
    "            print(\"Welcome to the customer\")\n",
    "        else:\n",
    "            print(\"You are vip and very imp. you are eligible for senior citizion discount\")\n",
    "    else:\n",
    "        print(\"Vip status is only for adult\")\n",
    "else:\n",
    "    print(\"You are not vip customer and will be charge a reguler price\")\n",
    "        "
   ]
  },
  {
   "cell_type": "code",
   "execution_count": 22,
   "id": "a61664f8-6133-4d71-ac37-0b65395813b6",
   "metadata": {},
   "outputs": [
    {
     "name": "stdout",
     "output_type": "stream",
     "text": [
      "Welcome to the customer\n"
     ]
    }
   ],
   "source": [
    "is_vip=True\n",
    "age=30\n",
    "if is_vip:\n",
    "    if age >=18:\n",
    "        if age <65:\n",
    "            print(\"Welcome to the customer\")\n",
    "        else:\n",
    "            print(\"You are vip and very imp. you are eligible for senior citizion discount\")\n",
    "    else:\n",
    "        print(\"Vip status is only for adult\")\n",
    "else:\n",
    "    print(\"You are not vip customer and will be charge a reguler price\")\n",
    "        "
   ]
  },
  {
   "cell_type": "code",
   "execution_count": 24,
   "id": "7319b6ac-654e-4979-bfc5-d6a75b6b365f",
   "metadata": {},
   "outputs": [
    {
     "name": "stdout",
     "output_type": "stream",
     "text": [
      "Vip status is only for adult\n"
     ]
    }
   ],
   "source": [
    "is_vip=True\n",
    "age=10\n",
    "if is_vip:\n",
    "    if age >=18:\n",
    "        if age <65:\n",
    "            print(\"Welcome to the customer\")\n",
    "        else:\n",
    "            print(\"You are vip and very imp. you are eligible for senior citizion discount\")\n",
    "    else:\n",
    "        print(\"Vip status is only for adult\")\n",
    "else:\n",
    "    print(\"You are not vip customer and will be charge a reguler price\")\n",
    "        "
   ]
  },
  {
   "cell_type": "code",
   "execution_count": 26,
   "id": "e3b69b8a-b97b-4b6f-97d6-91ae90452139",
   "metadata": {},
   "outputs": [
    {
     "name": "stdin",
     "output_type": "stream",
     "text": [
      "Enter the number 100\n"
     ]
    },
    {
     "name": "stdout",
     "output_type": "stream",
     "text": [
      "The no is 100\n"
     ]
    }
   ],
   "source": [
    "a=input(\"Enter the number\") # by defualt input treats everything as string\n",
    "print(\"The no is\",a)"
   ]
  },
  {
   "cell_type": "code",
   "execution_count": 27,
   "id": "3fd29c1a-6458-46c5-89f6-141d652d37e6",
   "metadata": {},
   "outputs": [
    {
     "data": {
      "text/plain": [
       "str"
      ]
     },
     "execution_count": 27,
     "metadata": {},
     "output_type": "execute_result"
    }
   ],
   "source": [
    "type(a)"
   ]
  },
  {
   "cell_type": "code",
   "execution_count": 28,
   "id": "e46d4d76-ec0d-4afa-b56c-b0bcff423e20",
   "metadata": {},
   "outputs": [
    {
     "name": "stdin",
     "output_type": "stream",
     "text": [
      "Enter the number= 100\n"
     ]
    },
    {
     "data": {
      "text/plain": [
       "100"
      ]
     },
     "execution_count": 28,
     "metadata": {},
     "output_type": "execute_result"
    }
   ],
   "source": [
    "a=int(input(\"Enter the number=\"))\n",
    "a"
   ]
  },
  {
   "cell_type": "code",
   "execution_count": 29,
   "id": "63ed0c5c-09a8-466e-958a-dabc6c061ae0",
   "metadata": {},
   "outputs": [
    {
     "data": {
      "text/plain": [
       "int"
      ]
     },
     "execution_count": 29,
     "metadata": {},
     "output_type": "execute_result"
    }
   ],
   "source": [
    "type(a)"
   ]
  },
  {
   "cell_type": "code",
   "execution_count": 30,
   "id": "f1ac736c-05a0-42d4-b362-ef29a876668e",
   "metadata": {},
   "outputs": [
    {
     "name": "stdin",
     "output_type": "stream",
     "text": [
      "Enter the number= 23\n"
     ]
    },
    {
     "name": "stdout",
     "output_type": "stream",
     "text": [
      "The number is greather than 0 and less than 100\n"
     ]
    }
   ],
   "source": [
    "a=int(input(\"Enter the number=\"))\n",
    "if a>=100:\n",
    "    print(\"The number is greather than the 100\")\n",
    "elif 0<=a<100:\n",
    "    print(\"The number is greather than 0 and less than 100\")\n",
    "else:\n",
    "    print(\"This is a negative no\")"
   ]
  },
  {
   "cell_type": "code",
   "execution_count": null,
   "id": "9113d59f-a8b9-4dd6-b3c9-ba864393eed5",
   "metadata": {},
   "outputs": [],
   "source": []
  },
  {
   "cell_type": "code",
   "execution_count": 33,
   "id": "9860df6b-93a4-469c-9773-c0651db1ef01",
   "metadata": {},
   "outputs": [
    {
     "name": "stdin",
     "output_type": "stream",
     "text": [
      "please enter your name= Nikhil Gupta\n",
      "please enter your email guptanikhilgupta@gmail.com\n",
      "please enter your password 1\n"
     ]
    },
    {
     "name": "stdout",
     "output_type": "stream",
     "text": [
      "Login/regristration is successfull\n"
     ]
    }
   ],
   "source": [
    "name=input(\"please enter your name=\")\n",
    "email=input(\"please enter your email\")\n",
    "password=input(\"please enter your password\")\n",
    "\n",
    "if name==\"\":\n",
    "    print(\"Please enter a valid name,can not be empty\")\n",
    "else:\n",
    "    if \"@\" not in email:\n",
    "        print(\"Please enter the valid eamil\")\n",
    "    else:\n",
    "        if  len(password)<0:\n",
    "            print(\"No password enterd ,plaese provide a valid password\")\n",
    "        else:\n",
    "            print(\"Login/regristration is successfull\")\n",
    "    \n",
    "    \n"
   ]
  },
  {
   "cell_type": "code",
   "execution_count": null,
   "id": "3a2b1e94-e748-4254-9381-0deead19bada",
   "metadata": {},
   "outputs": [],
   "source": []
  }
 ],
 "metadata": {
  "kernelspec": {
   "display_name": "Python 3 (ipykernel)",
   "language": "python",
   "name": "python3"
  },
  "language_info": {
   "codemirror_mode": {
    "name": "ipython",
    "version": 3
   },
   "file_extension": ".py",
   "mimetype": "text/x-python",
   "name": "python",
   "nbconvert_exporter": "python",
   "pygments_lexer": "ipython3",
   "version": "3.10.8"
  }
 },
 "nbformat": 4,
 "nbformat_minor": 5
}
